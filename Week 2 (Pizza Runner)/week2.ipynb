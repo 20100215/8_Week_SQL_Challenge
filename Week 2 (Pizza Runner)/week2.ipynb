{
 "cells": [
  {
   "cell_type": "markdown",
   "metadata": {},
   "source": [
    "## Case Study #2 - Pizza Runner"
   ]
  },
  {
   "cell_type": "markdown",
   "metadata": {},
   "source": [
    "#### Problem Statement\n",
    "Did you know that over 115 million kilograms of pizza is consumed daily worldwide??? (Well according to Wikipedia anyway…)\n",
    "\n",
    "Danny was scrolling through his Instagram feed when something really caught his eye - “80s Retro Styling and Pizza Is The Future!”\n",
    "\n",
    "Danny was sold on the idea, but he knew that pizza alone was not going to help him get seed funding to expand his new Pizza Empire - so he had one more genius idea to combine with it - he was going to Uberize it - and so Pizza Runner was launched!\n",
    "\n",
    "Danny started by recruiting “runners” to deliver fresh pizza from Pizza Runner Headquarters (otherwise known as Danny’s house) and also maxed out his credit card to pay freelance developers to build a mobile app to accept orders from customers."
   ]
  },
  {
   "cell_type": "markdown",
   "metadata": {},
   "source": [
    "#### Entity Relationship Diagram"
   ]
  },
  {
   "cell_type": "markdown",
   "metadata": {},
   "source": [
    "![week2.png](week2.png)"
   ]
  },
  {
   "cell_type": "markdown",
   "metadata": {},
   "source": [
    "Import modules"
   ]
  },
  {
   "cell_type": "code",
   "execution_count": 1,
   "metadata": {},
   "outputs": [],
   "source": [
    "import os\n",
    "import pandas as pd\n",
    "import numpy as np\n",
    "import matplotlib.pyplot as plt\n",
    "import sqlite3 as sql\n",
    "pd.set_option('display.max_columns', None)"
   ]
  },
  {
   "cell_type": "markdown",
   "metadata": {},
   "source": [
    "Initialize SQL"
   ]
  },
  {
   "cell_type": "code",
   "execution_count": 3,
   "metadata": {},
   "outputs": [],
   "source": [
    "conn = sql.connect(\"week2.db\")\n",
    "cursor = conn.cursor() \n",
    "if os.stat(\"week2.db\").st_size == 0:\n",
    "    with open('week2-sql.txt','r') as file:\n",
    "        script = file.read()\n",
    "        script = script.replace('\\n', ' ')\n",
    "    cursor.executescript(script)"
   ]
  },
  {
   "cell_type": "markdown",
   "metadata": {},
   "source": [
    "Verify tables"
   ]
  },
  {
   "cell_type": "code",
   "execution_count": 4,
   "metadata": {},
   "outputs": [
    {
     "name": "stdout",
     "output_type": "stream",
     "text": [
      "The tables in the database are: runners, customer_orders, runner_orders, pizza_names, pizza_recipes, pizza_toppings\n"
     ]
    }
   ],
   "source": [
    "query = \"\"\"SELECT name FROM sqlite_master WHERE type='table';\"\"\"\n",
    "cursor.execute(query)\n",
    "tables = [table[0] for table in cursor.fetchall()]\n",
    "tables\n",
    "print(f'The tables in the database are: {', '.join(tables)}')"
   ]
  },
  {
   "cell_type": "markdown",
   "metadata": {},
   "source": [
    "Fetch table information"
   ]
  },
  {
   "cell_type": "code",
   "execution_count": 5,
   "metadata": {},
   "outputs": [
    {
     "name": "stdout",
     "output_type": "stream",
     "text": [
      "=================================\n",
      "Table [runners]\n",
      "Dimensions: 4 rows x 2 columns\n",
      "\n",
      "   runner_id registration_date\n",
      "0          1        2021-01-01\n",
      "1          2        2021-01-03\n",
      "2          3        2021-01-08\n",
      "3          4        2021-01-15\n",
      "\n",
      "                  Datatypes  NULL count\n",
      "runner_id             int64           0\n",
      "registration_date    object           0\n",
      "\n",
      "=================================\n",
      "Table [customer_orders]\n",
      "Dimensions: 14 rows x 6 columns\n",
      "\n",
      "   order_id  customer_id  pizza_id exclusions extras           order_time\n",
      "0         1          101         1                    2020-01-01 18:05:02\n",
      "1         2          101         1                    2020-01-01 19:00:52\n",
      "2         3          102         1                    2020-01-02 23:51:23\n",
      "3         3          102         2              None  2020-01-02 23:51:23\n",
      "4         4          103         1          4         2020-01-04 13:23:46\n",
      "\n",
      "            Datatypes  NULL count\n",
      "order_id        int64           0\n",
      "customer_id     int64           0\n",
      "pizza_id        int64           0\n",
      "exclusions     object           0\n",
      "extras         object           1\n",
      "order_time     object           0\n",
      "\n",
      "=================================\n",
      "Table [runner_orders]\n",
      "Dimensions: 10 rows x 6 columns\n",
      "\n",
      "   order_id  runner_id          pickup_time distance    duration cancellation\n",
      "0         1          1  2020-01-01 18:15:34     20km  32 minutes             \n",
      "1         2          1  2020-01-01 19:10:54     20km  27 minutes             \n",
      "2         3          1  2020-01-03 00:12:37   13.4km     20 mins         None\n",
      "3         4          2  2020-01-04 13:53:03     23.4          40         None\n",
      "4         5          3  2020-01-08 21:10:57       10          15         None\n",
      "\n",
      "             Datatypes  NULL count\n",
      "order_id         int64           0\n",
      "runner_id        int64           0\n",
      "pickup_time     object           0\n",
      "distance        object           0\n",
      "duration        object           0\n",
      "cancellation    object           3\n",
      "\n",
      "=================================\n",
      "Table [pizza_names]\n",
      "Dimensions: 2 rows x 2 columns\n",
      "\n",
      "   pizza_id  pizza_name\n",
      "0         1  Meatlovers\n",
      "1         2  Vegetarian\n",
      "\n",
      "           Datatypes  NULL count\n",
      "pizza_id       int64           0\n",
      "pizza_name    object           0\n",
      "\n",
      "=================================\n",
      "Table [pizza_recipes]\n",
      "Dimensions: 2 rows x 2 columns\n",
      "\n",
      "   pizza_id                 toppings\n",
      "0         1  1, 2, 3, 4, 5, 6, 8, 10\n",
      "1         2       4, 6, 7, 9, 11, 12\n",
      "\n",
      "         Datatypes  NULL count\n",
      "pizza_id     int64           0\n",
      "toppings    object           0\n",
      "\n",
      "=================================\n",
      "Table [pizza_toppings]\n",
      "Dimensions: 12 rows x 2 columns\n",
      "\n",
      "   topping_id topping_name\n",
      "0           1        Bacon\n",
      "1           2    BBQ Sauce\n",
      "2           3         Beef\n",
      "3           4       Cheese\n",
      "4           5      Chicken\n",
      "\n",
      "             Datatypes  NULL count\n",
      "topping_id       int64           0\n",
      "topping_name    object           0\n",
      "\n"
     ]
    }
   ],
   "source": [
    "for table in tables:\n",
    "    print(\"=================================\")\n",
    "    print(f'Table [{table}]')\n",
    "    df = pd.read_sql_query(f'SELECT * FROM {table}', conn)\n",
    "    print(f'Dimensions: {df.shape[0]} rows x {df.shape[1]} columns\\n')\n",
    "    print(df.head())\n",
    "    info_df = pd.DataFrame.from_dict({'Datatypes':df.dtypes, 'NULL count':df.isna().sum()})\n",
    "    print()\n",
    "    print(info_df)\n",
    "    print()"
   ]
  },
  {
   "cell_type": "markdown",
   "metadata": {},
   "source": [
    "## Case Study Questions"
   ]
  }
 ],
 "metadata": {
  "kernelspec": {
   "display_name": "Python 3",
   "language": "python",
   "name": "python3"
  },
  "language_info": {
   "codemirror_mode": {
    "name": "ipython",
    "version": 3
   },
   "file_extension": ".py",
   "mimetype": "text/x-python",
   "name": "python",
   "nbconvert_exporter": "python",
   "pygments_lexer": "ipython3",
   "version": "3.12.3"
  }
 },
 "nbformat": 4,
 "nbformat_minor": 2
}
