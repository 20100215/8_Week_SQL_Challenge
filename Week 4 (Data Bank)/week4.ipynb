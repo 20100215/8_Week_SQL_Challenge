{
 "cells": [
  {
   "cell_type": "markdown",
   "metadata": {},
   "source": [
    "## Case Study #4 - Data Bank"
   ]
  },
  {
   "cell_type": "markdown",
   "metadata": {},
   "source": [
    "#### Problem Statement\n",
    "There is a new innovation in the financial industry called Neo-Banks: new aged digital only banks without physical branches.\n",
    "\n",
    "Danny thought that there should be some sort of intersection between these new age banks, cryptocurrency and the data world…so he decides to launch a new initiative - Data Bank!\n",
    "\n",
    "Data Bank runs just like any other digital bank - but it isn’t only for banking activities, they also have the world’s most secure distributed data storage platform!\n",
    "\n",
    "Customers are allocated cloud data storage limits which are directly linked to how much money they have in their accounts. There are a few interesting caveats that go with this business model, and this is where the Data Bank team need your help!\n",
    "\n",
    "The management team at Data Bank want to increase their total customer base - but also need some help tracking just how much data storage their customers will need.\n",
    "\n",
    "This case study is all about calculating metrics, growth and helping the business analyse their data in a smart way to better forecast and plan for their future developments!"
   ]
  },
  {
   "cell_type": "markdown",
   "metadata": {},
   "source": [
    "#### Entity Relationship Diagram"
   ]
  },
  {
   "cell_type": "markdown",
   "metadata": {},
   "source": [
    "![week4.png](week4.png)"
   ]
  },
  {
   "cell_type": "markdown",
   "metadata": {},
   "source": [
    "Import modules"
   ]
  },
  {
   "cell_type": "code",
   "execution_count": 133,
   "metadata": {},
   "outputs": [],
   "source": [
    "# SQL Engine imports\n",
    "from dotenv import load_dotenv\n",
    "import os\n",
    "import psycopg2\n",
    "from sqlalchemy import create_engine\n",
    "from sqlalchemy.sql import text\n",
    "\n",
    "# Python data analysis imports\n",
    "import pandas as pd\n",
    "import numpy as np\n",
    "import matplotlib.pyplot as plt\n",
    "import seaborn as sns\n",
    "pd.set_option('display.max_columns', None)"
   ]
  },
  {
   "cell_type": "markdown",
   "metadata": {},
   "source": [
    "Initialize SQL"
   ]
  },
  {
   "cell_type": "code",
   "execution_count": 134,
   "metadata": {},
   "outputs": [],
   "source": [
    "load_dotenv()\n",
    "user = os.environ.get(\"USER\")\n",
    "pw = os.environ.get(\"PASS\")\n",
    "db = os.environ.get(\"DB\")\n",
    "host = os.environ.get(\"HOST\")\n",
    "api = os.environ.get(\"API\")\n",
    "port = 5432\n",
    "schema = 'data_bank'"
   ]
  },
  {
   "cell_type": "code",
   "execution_count": 135,
   "metadata": {},
   "outputs": [],
   "source": [
    "uri = f\"postgresql+psycopg2://{user}:{pw}@{host}:{port}/{db}\"\n",
    "alchemyEngine = create_engine(uri)\n",
    "conn = alchemyEngine.connect()"
   ]
  },
  {
   "cell_type": "markdown",
   "metadata": {},
   "source": [
    "Verify tables"
   ]
  },
  {
   "cell_type": "code",
   "execution_count": 136,
   "metadata": {},
   "outputs": [
    {
     "name": "stdout",
     "output_type": "stream",
     "text": [
      "The tables in the database are: \n",
      "- regions\n",
      "- customer_nodes\n",
      "- customer_transactions\n"
     ]
    }
   ],
   "source": [
    "rs = conn.execute(text(f\"SELECT table_name FROM information_schema.tables WHERE table_schema='{schema}'\"))\n",
    "tables = [table[0] for table in rs.fetchall()]\n",
    "print(f'The tables in the database are: \\n- {'\\n- '.join(tables)}')"
   ]
  },
  {
   "cell_type": "markdown",
   "metadata": {},
   "source": [
    "Fetch table information"
   ]
  },
  {
   "cell_type": "code",
   "execution_count": 137,
   "metadata": {},
   "outputs": [
    {
     "name": "stdout",
     "output_type": "stream",
     "text": [
      "=================================\n",
      "Table [regions]\n",
      "Dimensions: 5 rows x 2 columns\n",
      "\n",
      "   region_id region_name\n",
      "0          1   Australia\n",
      "1          2     America\n",
      "2          3      Africa\n",
      "3          4        Asia\n",
      "4          5      Europe\n",
      "\n",
      "            Datatypes  NULL count\n",
      "region_id       int64           0\n",
      "region_name    object           0\n",
      "\n",
      "=================================\n",
      "Table [customer_nodes]\n",
      "Dimensions: 5 rows x 5 columns\n",
      "\n",
      "   customer_id  region_id  node_id  start_date    end_date\n",
      "0            1          3        4  2020-01-02  2020-01-03\n",
      "1            2          3        5  2020-01-03  2020-01-17\n",
      "2            3          5        4  2020-01-27  2020-02-18\n",
      "3            4          5        4  2020-01-07  2020-01-19\n",
      "4            5          3        3  2020-01-15  2020-01-23\n",
      "\n",
      "            Datatypes  NULL count\n",
      "customer_id     int64           0\n",
      "region_id       int64           0\n",
      "node_id         int64           0\n",
      "start_date     object           0\n",
      "end_date       object           0\n",
      "\n",
      "=================================\n",
      "Table [customer_transactions]\n",
      "Dimensions: 5 rows x 4 columns\n",
      "\n",
      "   customer_id    txn_date txn_type  txn_amount\n",
      "0          429  2020-01-21  deposit          82\n",
      "1          155  2020-01-10  deposit         712\n",
      "2          398  2020-01-01  deposit         196\n",
      "3          255  2020-01-14  deposit         563\n",
      "4          185  2020-01-29  deposit         626\n",
      "\n",
      "            Datatypes  NULL count\n",
      "customer_id     int64           0\n",
      "txn_date       object           0\n",
      "txn_type       object           0\n",
      "txn_amount      int64           0\n",
      "\n"
     ]
    }
   ],
   "source": [
    "for table in tables:\n",
    "    print(\"=================================\")\n",
    "    print(f'Table [{table}]')\n",
    "    df = pd.read_sql_query(f'SELECT * FROM {schema}.{table} LIMIT 5', conn)\n",
    "    print(f'Dimensions: {df.shape[0]} rows x {df.shape[1]} columns\\n')\n",
    "    print(df.head())\n",
    "    info_df = pd.DataFrame.from_dict({'Datatypes':df.dtypes, 'NULL count':df.isna().sum()})\n",
    "    print()\n",
    "    print(info_df)\n",
    "    print()"
   ]
  },
  {
   "cell_type": "code",
   "execution_count": 138,
   "metadata": {},
   "outputs": [],
   "source": [
    "def query(stmt: str):\n",
    "    \"\"\"Executes a given SQL statement and returns a Pandas DataFrame given the results.\n",
    "    \n",
    "    Parameters\n",
    "    ----------\n",
    "    stmt: str\n",
    "        The SQL statement to be executed\n",
    "    \"\"\"\n",
    "    global conn\n",
    "    result = pd.read_sql_query(stmt, conn)\n",
    "    return result"
   ]
  },
  {
   "cell_type": "markdown",
   "metadata": {},
   "source": [
    "## Case Study Questions"
   ]
  },
  {
   "cell_type": "markdown",
   "metadata": {},
   "source": [
    "The following case study questions include some general data exploration analysis for the nodes and transactions before diving right into the core business questions and finishes with a challenging final request!"
   ]
  },
  {
   "cell_type": "markdown",
   "metadata": {},
   "source": [
    "**A. Customer Nodes Exploration**\n",
    "\n",
    "Q1: How many unique nodes are there on the Data Bank system?"
   ]
  },
  {
   "cell_type": "code",
   "execution_count": 139,
   "metadata": {},
   "outputs": [
    {
     "data": {
      "text/html": [
       "<div>\n",
       "<style scoped>\n",
       "    .dataframe tbody tr th:only-of-type {\n",
       "        vertical-align: middle;\n",
       "    }\n",
       "\n",
       "    .dataframe tbody tr th {\n",
       "        vertical-align: top;\n",
       "    }\n",
       "\n",
       "    .dataframe thead th {\n",
       "        text-align: right;\n",
       "    }\n",
       "</style>\n",
       "<table border=\"1\" class=\"dataframe\">\n",
       "  <thead>\n",
       "    <tr style=\"text-align: right;\">\n",
       "      <th></th>\n",
       "      <th>count</th>\n",
       "    </tr>\n",
       "  </thead>\n",
       "  <tbody>\n",
       "    <tr>\n",
       "      <th>0</th>\n",
       "      <td>5</td>\n",
       "    </tr>\n",
       "  </tbody>\n",
       "</table>\n",
       "</div>"
      ],
      "text/plain": [
       "   count\n",
       "0      5"
      ]
     },
     "execution_count": 139,
     "metadata": {},
     "output_type": "execute_result"
    }
   ],
   "source": [
    "query(f'''\n",
    "    SELECT COUNT(DISTINCT node_id)\n",
    "    FROM data_bank.customer_nodes \n",
    "''')"
   ]
  },
  {
   "cell_type": "markdown",
   "metadata": {},
   "source": [
    "Q2: What is the number of nodes per region?"
   ]
  },
  {
   "cell_type": "code",
   "execution_count": 140,
   "metadata": {},
   "outputs": [
    {
     "data": {
      "text/html": [
       "<div>\n",
       "<style scoped>\n",
       "    .dataframe tbody tr th:only-of-type {\n",
       "        vertical-align: middle;\n",
       "    }\n",
       "\n",
       "    .dataframe tbody tr th {\n",
       "        vertical-align: top;\n",
       "    }\n",
       "\n",
       "    .dataframe thead th {\n",
       "        text-align: right;\n",
       "    }\n",
       "</style>\n",
       "<table border=\"1\" class=\"dataframe\">\n",
       "  <thead>\n",
       "    <tr style=\"text-align: right;\">\n",
       "      <th></th>\n",
       "      <th>region_id</th>\n",
       "      <th>region_name</th>\n",
       "      <th>count</th>\n",
       "    </tr>\n",
       "  </thead>\n",
       "  <tbody>\n",
       "    <tr>\n",
       "      <th>0</th>\n",
       "      <td>1</td>\n",
       "      <td>Australia</td>\n",
       "      <td>5</td>\n",
       "    </tr>\n",
       "    <tr>\n",
       "      <th>1</th>\n",
       "      <td>2</td>\n",
       "      <td>America</td>\n",
       "      <td>5</td>\n",
       "    </tr>\n",
       "    <tr>\n",
       "      <th>2</th>\n",
       "      <td>3</td>\n",
       "      <td>Africa</td>\n",
       "      <td>5</td>\n",
       "    </tr>\n",
       "    <tr>\n",
       "      <th>3</th>\n",
       "      <td>4</td>\n",
       "      <td>Asia</td>\n",
       "      <td>5</td>\n",
       "    </tr>\n",
       "    <tr>\n",
       "      <th>4</th>\n",
       "      <td>5</td>\n",
       "      <td>Europe</td>\n",
       "      <td>5</td>\n",
       "    </tr>\n",
       "  </tbody>\n",
       "</table>\n",
       "</div>"
      ],
      "text/plain": [
       "   region_id region_name  count\n",
       "0          1   Australia      5\n",
       "1          2     America      5\n",
       "2          3      Africa      5\n",
       "3          4        Asia      5\n",
       "4          5      Europe      5"
      ]
     },
     "execution_count": 140,
     "metadata": {},
     "output_type": "execute_result"
    }
   ],
   "source": [
    "query('''\n",
    "    SELECT r.region_id, r.region_name, COUNT(DISTINCT cn.node_id)\n",
    "    FROM data_bank.regions r\n",
    "        JOIN data_bank.customer_nodes cn USING (region_id)\n",
    "    GROUP BY region_id, region_name\n",
    "    ORDER BY region_id\n",
    "''')"
   ]
  },
  {
   "cell_type": "markdown",
   "metadata": {},
   "source": [
    "Q3: How many customers are allocated to each region?"
   ]
  },
  {
   "cell_type": "code",
   "execution_count": 141,
   "metadata": {},
   "outputs": [
    {
     "data": {
      "text/html": [
       "<div>\n",
       "<style scoped>\n",
       "    .dataframe tbody tr th:only-of-type {\n",
       "        vertical-align: middle;\n",
       "    }\n",
       "\n",
       "    .dataframe tbody tr th {\n",
       "        vertical-align: top;\n",
       "    }\n",
       "\n",
       "    .dataframe thead th {\n",
       "        text-align: right;\n",
       "    }\n",
       "</style>\n",
       "<table border=\"1\" class=\"dataframe\">\n",
       "  <thead>\n",
       "    <tr style=\"text-align: right;\">\n",
       "      <th></th>\n",
       "      <th>region_id</th>\n",
       "      <th>customer_count</th>\n",
       "    </tr>\n",
       "  </thead>\n",
       "  <tbody>\n",
       "    <tr>\n",
       "      <th>0</th>\n",
       "      <td>1</td>\n",
       "      <td>770</td>\n",
       "    </tr>\n",
       "    <tr>\n",
       "      <th>1</th>\n",
       "      <td>2</td>\n",
       "      <td>735</td>\n",
       "    </tr>\n",
       "    <tr>\n",
       "      <th>2</th>\n",
       "      <td>3</td>\n",
       "      <td>714</td>\n",
       "    </tr>\n",
       "    <tr>\n",
       "      <th>3</th>\n",
       "      <td>4</td>\n",
       "      <td>665</td>\n",
       "    </tr>\n",
       "    <tr>\n",
       "      <th>4</th>\n",
       "      <td>5</td>\n",
       "      <td>616</td>\n",
       "    </tr>\n",
       "  </tbody>\n",
       "</table>\n",
       "</div>"
      ],
      "text/plain": [
       "   region_id  customer_count\n",
       "0          1             770\n",
       "1          2             735\n",
       "2          3             714\n",
       "3          4             665\n",
       "4          5             616"
      ]
     },
     "execution_count": 141,
     "metadata": {},
     "output_type": "execute_result"
    }
   ],
   "source": [
    "query('''\n",
    "    SELECT \n",
    "        region_id, \n",
    "        COUNT(customer_id) AS customer_count\n",
    "    FROM data_bank.customer_nodes\n",
    "    GROUP BY region_id\n",
    "    ORDER BY region_id\n",
    "''')"
   ]
  },
  {
   "cell_type": "markdown",
   "metadata": {},
   "source": [
    "Q4: How many days on average are customers reallocated to a different node?"
   ]
  },
  {
   "cell_type": "markdown",
   "metadata": {},
   "source": [
    "- This problem can be solved by first obtaining the number of days a customer stayed in each node"
   ]
  },
  {
   "cell_type": "code",
   "execution_count": 142,
   "metadata": {},
   "outputs": [
    {
     "data": {
      "text/html": [
       "<div>\n",
       "<style scoped>\n",
       "    .dataframe tbody tr th:only-of-type {\n",
       "        vertical-align: middle;\n",
       "    }\n",
       "\n",
       "    .dataframe tbody tr th {\n",
       "        vertical-align: top;\n",
       "    }\n",
       "\n",
       "    .dataframe thead th {\n",
       "        text-align: right;\n",
       "    }\n",
       "</style>\n",
       "<table border=\"1\" class=\"dataframe\">\n",
       "  <thead>\n",
       "    <tr style=\"text-align: right;\">\n",
       "      <th></th>\n",
       "      <th>avg_node_reallocation_days</th>\n",
       "    </tr>\n",
       "  </thead>\n",
       "  <tbody>\n",
       "    <tr>\n",
       "      <th>0</th>\n",
       "      <td>23.57</td>\n",
       "    </tr>\n",
       "  </tbody>\n",
       "</table>\n",
       "</div>"
      ],
      "text/plain": [
       "   avg_node_reallocation_days\n",
       "0                       23.57"
      ]
     },
     "execution_count": 142,
     "metadata": {},
     "output_type": "execute_result"
    }
   ],
   "source": [
    "query('''\n",
    "    WITH node_days AS (\n",
    "    SELECT \n",
    "      customer_id, \n",
    "      region_id,\n",
    "      node_id,\n",
    "      end_date - start_date AS days_in_node\n",
    "    FROM data_bank.customer_nodes\n",
    "    WHERE end_date != '9999-12-31' -- Exclude the active records\n",
    "  ), \n",
    "  total_node_days AS (\n",
    "    SELECT \n",
    "      customer_id,\n",
    "      region_id, \n",
    "      node_id,\n",
    "      SUM(days_in_node) AS total_days_in_node\n",
    "    FROM node_days\n",
    "    GROUP BY customer_id, region_id, node_id\n",
    "  )\n",
    "\n",
    "  SELECT ROUND(AVG(total_days_in_node),2) AS avg_node_reallocation_days\n",
    "  FROM total_node_days;\n",
    "''')"
   ]
  },
  {
   "cell_type": "markdown",
   "metadata": {},
   "source": [
    "Q5: What is the median, 80th and 95th percentile for this same reallocation days metric for each region?"
   ]
  },
  {
   "cell_type": "markdown",
   "metadata": {},
   "source": [
    "- Same approach as Q4, but use PERCENTILE_CONT() to get the percentile values."
   ]
  },
  {
   "cell_type": "code",
   "execution_count": 143,
   "metadata": {},
   "outputs": [
    {
     "data": {
      "text/html": [
       "<div>\n",
       "<style scoped>\n",
       "    .dataframe tbody tr th:only-of-type {\n",
       "        vertical-align: middle;\n",
       "    }\n",
       "\n",
       "    .dataframe tbody tr th {\n",
       "        vertical-align: top;\n",
       "    }\n",
       "\n",
       "    .dataframe thead th {\n",
       "        text-align: right;\n",
       "    }\n",
       "</style>\n",
       "<table border=\"1\" class=\"dataframe\">\n",
       "  <thead>\n",
       "    <tr style=\"text-align: right;\">\n",
       "      <th></th>\n",
       "      <th>median_days</th>\n",
       "      <th>perc_80_days</th>\n",
       "      <th>perc_95_days</th>\n",
       "    </tr>\n",
       "  </thead>\n",
       "  <tbody>\n",
       "    <tr>\n",
       "      <th>0</th>\n",
       "      <td>22.0</td>\n",
       "      <td>34.0</td>\n",
       "      <td>52.0</td>\n",
       "    </tr>\n",
       "  </tbody>\n",
       "</table>\n",
       "</div>"
      ],
      "text/plain": [
       "   median_days  perc_80_days  perc_95_days\n",
       "0         22.0          34.0          52.0"
      ]
     },
     "execution_count": 143,
     "metadata": {},
     "output_type": "execute_result"
    }
   ],
   "source": [
    "query('''\n",
    "    WITH node_days AS (\n",
    "        SELECT \n",
    "            customer_id, \n",
    "            region_id,\n",
    "            node_id,\n",
    "            end_date - start_date AS days_in_node\n",
    "        FROM data_bank.customer_nodes\n",
    "        WHERE end_date != '9999-12-31' -- Exclude the active records\n",
    "    ), \n",
    "    total_node_days AS (\n",
    "        SELECT \n",
    "            customer_id,\n",
    "            region_id, \n",
    "            node_id,\n",
    "            SUM(days_in_node) AS total_days_in_node\n",
    "        FROM node_days\n",
    "        GROUP BY customer_id, region_id, node_id\n",
    "    )\n",
    "    SELECT\n",
    "        PERCENTILE_CONT(0.50) WITHIN GROUP (ORDER BY total_days_in_node) AS median_days,\n",
    "        PERCENTILE_CONT(0.80) WITHIN GROUP (ORDER BY total_days_in_node) AS perc_80_days,\n",
    "        PERCENTILE_CONT(0.95) WITHIN GROUP (ORDER BY total_days_in_node) AS perc_95_days\n",
    "    FROM\n",
    "        total_node_days\n",
    "''')"
   ]
  },
  {
   "cell_type": "markdown",
   "metadata": {},
   "source": [
    "- Median: 22 days\n",
    "- 80th percentile: 34 days\n",
    "- 95th percentile: 52 days"
   ]
  },
  {
   "cell_type": "markdown",
   "metadata": {},
   "source": [
    "**B. Customer Transactions**\n",
    "\n",
    "Q6: What is the unique count and total amount for each transaction type?"
   ]
  },
  {
   "cell_type": "code",
   "execution_count": 144,
   "metadata": {},
   "outputs": [
    {
     "data": {
      "text/html": [
       "<div>\n",
       "<style scoped>\n",
       "    .dataframe tbody tr th:only-of-type {\n",
       "        vertical-align: middle;\n",
       "    }\n",
       "\n",
       "    .dataframe tbody tr th {\n",
       "        vertical-align: top;\n",
       "    }\n",
       "\n",
       "    .dataframe thead th {\n",
       "        text-align: right;\n",
       "    }\n",
       "</style>\n",
       "<table border=\"1\" class=\"dataframe\">\n",
       "  <thead>\n",
       "    <tr style=\"text-align: right;\">\n",
       "      <th></th>\n",
       "      <th>txn_type</th>\n",
       "      <th>num_transactions</th>\n",
       "      <th>total_amount</th>\n",
       "    </tr>\n",
       "  </thead>\n",
       "  <tbody>\n",
       "    <tr>\n",
       "      <th>0</th>\n",
       "      <td>purchase</td>\n",
       "      <td>1617</td>\n",
       "      <td>806537</td>\n",
       "    </tr>\n",
       "    <tr>\n",
       "      <th>1</th>\n",
       "      <td>withdrawal</td>\n",
       "      <td>1580</td>\n",
       "      <td>793003</td>\n",
       "    </tr>\n",
       "    <tr>\n",
       "      <th>2</th>\n",
       "      <td>deposit</td>\n",
       "      <td>2671</td>\n",
       "      <td>1359168</td>\n",
       "    </tr>\n",
       "  </tbody>\n",
       "</table>\n",
       "</div>"
      ],
      "text/plain": [
       "     txn_type  num_transactions  total_amount\n",
       "0    purchase              1617        806537\n",
       "1  withdrawal              1580        793003\n",
       "2     deposit              2671       1359168"
      ]
     },
     "execution_count": 144,
     "metadata": {},
     "output_type": "execute_result"
    }
   ],
   "source": [
    "q6_df = query('''\n",
    "    SELECT\n",
    "        txn_type, \n",
    "        COUNT(customer_id) AS num_transactions, \n",
    "        SUM(txn_amount) AS total_amount\n",
    "    FROM data_bank.customer_transactions\n",
    "    GROUP BY txn_type;\n",
    "''')\n",
    "q6_df"
   ]
  },
  {
   "cell_type": "code",
   "execution_count": 145,
   "metadata": {},
   "outputs": [
    {
     "data": {
      "image/png": "[encoded data removed]",
      "text/plain": [
       "<Figure size 640x480 with 2 Axes>"
      ]
     },
     "metadata": {},
     "output_type": "display_data"
    }
   ],
   "source": [
    "fig, (a0, a1) = plt.subplots(1, 2, sharey=False)\n",
    "sns.barplot(data=q6_df, x='txn_type', y='num_transactions', ax=a0)\n",
    "sns.barplot(data=q6_df, x='txn_type', y='total_amount', ax=a1)\n",
    "plt.ticklabel_format(style='plain', axis='y')\n",
    "fig.tight_layout()\n",
    "plt.show()"
   ]
  },
  {
   "cell_type": "markdown",
   "metadata": {},
   "source": [
    "Q7: What is the average total historical deposit counts and amounts for all customers?"
   ]
  },
  {
   "cell_type": "code",
   "execution_count": 146,
   "metadata": {},
   "outputs": [
    {
     "data": {
      "text/html": [
       "<div>\n",
       "<style scoped>\n",
       "    .dataframe tbody tr th:only-of-type {\n",
       "        vertical-align: middle;\n",
       "    }\n",
       "\n",
       "    .dataframe tbody tr th {\n",
       "        vertical-align: top;\n",
       "    }\n",
       "\n",
       "    .dataframe thead th {\n",
       "        text-align: right;\n",
       "    }\n",
       "</style>\n",
       "<table border=\"1\" class=\"dataframe\">\n",
       "  <thead>\n",
       "    <tr style=\"text-align: right;\">\n",
       "      <th></th>\n",
       "      <th>avg_deposit_count</th>\n",
       "      <th>avg_deposit_amt</th>\n",
       "    </tr>\n",
       "  </thead>\n",
       "  <tbody>\n",
       "    <tr>\n",
       "      <th>0</th>\n",
       "      <td>5.0</td>\n",
       "      <td>509.0</td>\n",
       "    </tr>\n",
       "  </tbody>\n",
       "</table>\n",
       "</div>"
      ],
      "text/plain": [
       "   avg_deposit_count  avg_deposit_amt\n",
       "0                5.0            509.0"
      ]
     },
     "execution_count": 146,
     "metadata": {},
     "output_type": "execute_result"
    }
   ],
   "source": [
    "query('''\n",
    "    WITH deposits AS (\n",
    "    SELECT \n",
    "        customer_id, \n",
    "        COUNT(customer_id) AS txn_count, \n",
    "        AVG(txn_amount) AS avg_amount\n",
    "    FROM data_bank.customer_transactions\n",
    "    WHERE txn_type = 'deposit'\n",
    "    GROUP BY customer_id\n",
    "    )\n",
    "\n",
    "    SELECT \n",
    "        ROUND(AVG(txn_count)) AS avg_deposit_count, \n",
    "        ROUND(AVG(avg_amount)) AS avg_deposit_amt\n",
    "    FROM deposits;\n",
    "''')"
   ]
  },
  {
   "cell_type": "markdown",
   "metadata": {},
   "source": [
    "Bonus: Visualizing the distribution of deposit counts and amounts per customer:"
   ]
  },
  {
   "cell_type": "code",
   "execution_count": 147,
   "metadata": {},
   "outputs": [
    {
     "data": {
      "text/html": [
       "<div>\n",
       "<style scoped>\n",
       "    .dataframe tbody tr th:only-of-type {\n",
       "        vertical-align: middle;\n",
       "    }\n",
       "\n",
       "    .dataframe tbody tr th {\n",
       "        vertical-align: top;\n",
       "    }\n",
       "\n",
       "    .dataframe thead th {\n",
       "        text-align: right;\n",
       "    }\n",
       "</style>\n",
       "<table border=\"1\" class=\"dataframe\">\n",
       "  <thead>\n",
       "    <tr style=\"text-align: right;\">\n",
       "      <th></th>\n",
       "      <th>customer_id</th>\n",
       "      <th>txn_count</th>\n",
       "      <th>avg_amount</th>\n",
       "    </tr>\n",
       "  </thead>\n",
       "  <tbody>\n",
       "    <tr>\n",
       "      <th>0</th>\n",
       "      <td>92</td>\n",
       "      <td>1</td>\n",
       "      <td>985.000000</td>\n",
       "    </tr>\n",
       "    <tr>\n",
       "      <th>1</th>\n",
       "      <td>252</td>\n",
       "      <td>1</td>\n",
       "      <td>982.000000</td>\n",
       "    </tr>\n",
       "    <tr>\n",
       "      <th>2</th>\n",
       "      <td>84</td>\n",
       "      <td>1</td>\n",
       "      <td>968.000000</td>\n",
       "    </tr>\n",
       "    <tr>\n",
       "      <th>3</th>\n",
       "      <td>401</td>\n",
       "      <td>2</td>\n",
       "      <td>959.500000</td>\n",
       "    </tr>\n",
       "    <tr>\n",
       "      <th>4</th>\n",
       "      <td>260</td>\n",
       "      <td>3</td>\n",
       "      <td>953.666667</td>\n",
       "    </tr>\n",
       "    <tr>\n",
       "      <th>...</th>\n",
       "      <td>...</td>\n",
       "      <td>...</td>\n",
       "      <td>...</td>\n",
       "    </tr>\n",
       "    <tr>\n",
       "      <th>495</th>\n",
       "      <td>75</td>\n",
       "      <td>2</td>\n",
       "      <td>147.000000</td>\n",
       "    </tr>\n",
       "    <tr>\n",
       "      <th>496</th>\n",
       "      <td>431</td>\n",
       "      <td>2</td>\n",
       "      <td>129.500000</td>\n",
       "    </tr>\n",
       "    <tr>\n",
       "      <th>497</th>\n",
       "      <td>71</td>\n",
       "      <td>1</td>\n",
       "      <td>128.000000</td>\n",
       "    </tr>\n",
       "    <tr>\n",
       "      <th>498</th>\n",
       "      <td>466</td>\n",
       "      <td>3</td>\n",
       "      <td>95.333333</td>\n",
       "    </tr>\n",
       "    <tr>\n",
       "      <th>499</th>\n",
       "      <td>132</td>\n",
       "      <td>1</td>\n",
       "      <td>14.000000</td>\n",
       "    </tr>\n",
       "  </tbody>\n",
       "</table>\n",
       "<p>500 rows × 3 columns</p>\n",
       "</div>"
      ],
      "text/plain": [
       "     customer_id  txn_count  avg_amount\n",
       "0             92          1  985.000000\n",
       "1            252          1  982.000000\n",
       "2             84          1  968.000000\n",
       "3            401          2  959.500000\n",
       "4            260          3  953.666667\n",
       "..           ...        ...         ...\n",
       "495           75          2  147.000000\n",
       "496          431          2  129.500000\n",
       "497           71          1  128.000000\n",
       "498          466          3   95.333333\n",
       "499          132          1   14.000000\n",
       "\n",
       "[500 rows x 3 columns]"
      ]
     },
     "execution_count": 147,
     "metadata": {},
     "output_type": "execute_result"
    }
   ],
   "source": [
    "q7b_df = query('''\n",
    "    SELECT \n",
    "        customer_id, \n",
    "        COUNT(customer_id) AS txn_count, \n",
    "        AVG(txn_amount) AS avg_amount\n",
    "    FROM data_bank.customer_transactions\n",
    "    WHERE txn_type = 'deposit'\n",
    "    GROUP BY customer_id\n",
    "    ORDER BY avg_amount DESC\n",
    "''')\n",
    "q7b_df"
   ]
  },
  {
   "cell_type": "markdown",
   "metadata": {},
   "source": [
    "- Observation: Highest average is 985.00 per transaction while lowest average is 14.00 per transaction. Both of these extreme values were achieved by just 1 deposit from the respective customers."
   ]
  },
  {
   "cell_type": "code",
   "execution_count": 148,
   "metadata": {},
   "outputs": [
    {
     "data": {
      "image/png": "[encoded data removed]",
      "text/plain": [
       "<Figure size 640x480 with 2 Axes>"
      ]
     },
     "metadata": {},
     "output_type": "display_data"
    }
   ],
   "source": [
    "fig, (a0, a1) = plt.subplots(1, 2, sharey=False)\n",
    "sns.histplot(data=q7b_df, x='txn_count', ax=a0)\n",
    "sns.histplot(data=q7b_df, x='avg_amount', ax=a1)\n",
    "plt.ticklabel_format(style='plain', axis='y')\n",
    "fig.tight_layout()\n",
    "plt.show()"
   ]
  },
  {
   "cell_type": "markdown",
   "metadata": {},
   "source": [
    "- The distribution for average deposit amount looked like a normal distribution."
   ]
  },
  {
   "cell_type": "markdown",
   "metadata": {},
   "source": [
    "Q8: For each month - how many Data Bank customers make more than 1 deposit and either 1 purchase or 1 withdrawal in a single month?"
   ]
  },
  {
   "cell_type": "markdown",
   "metadata": {},
   "source": [
    "- Approach: Use a CTE to tally the number of transactions per type for each combination of customer_id and month."
   ]
  },
  {
   "cell_type": "code",
   "execution_count": 149,
   "metadata": {},
   "outputs": [
    {
     "data": {
      "text/html": [
       "<div>\n",
       "<style scoped>\n",
       "    .dataframe tbody tr th:only-of-type {\n",
       "        vertical-align: middle;\n",
       "    }\n",
       "\n",
       "    .dataframe tbody tr th {\n",
       "        vertical-align: top;\n",
       "    }\n",
       "\n",
       "    .dataframe thead th {\n",
       "        text-align: right;\n",
       "    }\n",
       "</style>\n",
       "<table border=\"1\" class=\"dataframe\">\n",
       "  <thead>\n",
       "    <tr style=\"text-align: right;\">\n",
       "      <th></th>\n",
       "      <th>month</th>\n",
       "      <th>num_customers</th>\n",
       "    </tr>\n",
       "  </thead>\n",
       "  <tbody>\n",
       "    <tr>\n",
       "      <th>0</th>\n",
       "      <td>1</td>\n",
       "      <td>168</td>\n",
       "    </tr>\n",
       "    <tr>\n",
       "      <th>1</th>\n",
       "      <td>2</td>\n",
       "      <td>181</td>\n",
       "    </tr>\n",
       "    <tr>\n",
       "      <th>2</th>\n",
       "      <td>3</td>\n",
       "      <td>192</td>\n",
       "    </tr>\n",
       "    <tr>\n",
       "      <th>3</th>\n",
       "      <td>4</td>\n",
       "      <td>70</td>\n",
       "    </tr>\n",
       "  </tbody>\n",
       "</table>\n",
       "</div>"
      ],
      "text/plain": [
       "   month  num_customers\n",
       "0      1            168\n",
       "1      2            181\n",
       "2      3            192\n",
       "3      4             70"
      ]
     },
     "execution_count": 149,
     "metadata": {},
     "output_type": "execute_result"
    }
   ],
   "source": [
    "query('''\n",
    "    WITH transactions_per_month_cte AS(\n",
    "        SELECT\n",
    "            customer_id,\n",
    "            DATE_PART('month', txn_date) AS month,\n",
    "            SUM(CASE WHEN txn_type = 'deposit' THEN 1 ELSE 0 END) AS num_deposits,\n",
    "            SUM(CASE WHEN txn_type = 'purchase' THEN 1 ELSE 0 END) AS num_purchases,\n",
    "            SUM(CASE WHEN txn_type = 'withdrawal' THEN 1 ELSE 0 END) AS num_withdrawals\n",
    "        FROM data_bank.customer_transactions\n",
    "        GROUP BY customer_id, DATE_PART('month', txn_date)\n",
    "    ) \n",
    "    SELECT\n",
    "        month::INT,\n",
    "        COUNT(DISTINCT customer_id) AS num_customers\n",
    "    FROM \n",
    "        transactions_per_month_cte\n",
    "    WHERE\n",
    "        num_deposits > 1 AND (num_purchases >= 1 OR num_withdrawals >= 1)\n",
    "    GROUP BY month\n",
    "    ORDER BY month\n",
    "''')"
   ]
  },
  {
   "cell_type": "markdown",
   "metadata": {},
   "source": [
    "Q9: What is the closing balance for each customer at the end of the month?"
   ]
  },
  {
   "cell_type": "markdown",
   "metadata": {},
   "source": [
    "- First create a CTE to get the sum of deposits minus sum of purchases and sum of withdrawals, grouped by customer and end of month to get the monthly changes."
   ]
  },
  {
   "cell_type": "code",
   "execution_count": 150,
   "metadata": {},
   "outputs": [
    {
     "data": {
      "text/html": [
       "<div>\n",
       "<style scoped>\n",
       "    .dataframe tbody tr th:only-of-type {\n",
       "        vertical-align: middle;\n",
       "    }\n",
       "\n",
       "    .dataframe tbody tr th {\n",
       "        vertical-align: top;\n",
       "    }\n",
       "\n",
       "    .dataframe thead th {\n",
       "        text-align: right;\n",
       "    }\n",
       "</style>\n",
       "<table border=\"1\" class=\"dataframe\">\n",
       "  <thead>\n",
       "    <tr style=\"text-align: right;\">\n",
       "      <th></th>\n",
       "      <th>customer_id</th>\n",
       "      <th>end_of_month</th>\n",
       "      <th>flow_change</th>\n",
       "    </tr>\n",
       "  </thead>\n",
       "  <tbody>\n",
       "    <tr>\n",
       "      <th>0</th>\n",
       "      <td>1</td>\n",
       "      <td>2020-01-31</td>\n",
       "      <td>312</td>\n",
       "    </tr>\n",
       "    <tr>\n",
       "      <th>1</th>\n",
       "      <td>1</td>\n",
       "      <td>2020-03-31</td>\n",
       "      <td>-952</td>\n",
       "    </tr>\n",
       "    <tr>\n",
       "      <th>2</th>\n",
       "      <td>2</td>\n",
       "      <td>2020-01-31</td>\n",
       "      <td>549</td>\n",
       "    </tr>\n",
       "    <tr>\n",
       "      <th>3</th>\n",
       "      <td>2</td>\n",
       "      <td>2020-03-31</td>\n",
       "      <td>61</td>\n",
       "    </tr>\n",
       "    <tr>\n",
       "      <th>4</th>\n",
       "      <td>3</td>\n",
       "      <td>2020-01-31</td>\n",
       "      <td>144</td>\n",
       "    </tr>\n",
       "    <tr>\n",
       "      <th>...</th>\n",
       "      <td>...</td>\n",
       "      <td>...</td>\n",
       "      <td>...</td>\n",
       "    </tr>\n",
       "    <tr>\n",
       "      <th>1715</th>\n",
       "      <td>499</td>\n",
       "      <td>2020-02-29</td>\n",
       "      <td>1719</td>\n",
       "    </tr>\n",
       "    <tr>\n",
       "      <th>1716</th>\n",
       "      <td>499</td>\n",
       "      <td>2020-03-31</td>\n",
       "      <td>-816</td>\n",
       "    </tr>\n",
       "    <tr>\n",
       "      <th>1717</th>\n",
       "      <td>500</td>\n",
       "      <td>2020-01-31</td>\n",
       "      <td>1594</td>\n",
       "    </tr>\n",
       "    <tr>\n",
       "      <th>1718</th>\n",
       "      <td>500</td>\n",
       "      <td>2020-02-29</td>\n",
       "      <td>1387</td>\n",
       "    </tr>\n",
       "    <tr>\n",
       "      <th>1719</th>\n",
       "      <td>500</td>\n",
       "      <td>2020-03-31</td>\n",
       "      <td>-730</td>\n",
       "    </tr>\n",
       "  </tbody>\n",
       "</table>\n",
       "<p>1720 rows × 3 columns</p>\n",
       "</div>"
      ],
      "text/plain": [
       "      customer_id end_of_month  flow_change\n",
       "0               1   2020-01-31          312\n",
       "1               1   2020-03-31         -952\n",
       "2               2   2020-01-31          549\n",
       "3               2   2020-03-31           61\n",
       "4               3   2020-01-31          144\n",
       "...           ...          ...          ...\n",
       "1715          499   2020-02-29         1719\n",
       "1716          499   2020-03-31         -816\n",
       "1717          500   2020-01-31         1594\n",
       "1718          500   2020-02-29         1387\n",
       "1719          500   2020-03-31         -730\n",
       "\n",
       "[1720 rows x 3 columns]"
      ]
     },
     "execution_count": 150,
     "metadata": {},
     "output_type": "execute_result"
    }
   ],
   "source": [
    "query('''\n",
    "    SELECT \n",
    "        customer_id,\n",
    "        (DATE_TRUNC('month', txn_date) + INTERVAL '1 MONTH - 1 DAY')::DATE AS end_of_month, \n",
    "        SUM(CASE \n",
    "            WHEN txn_type = 'withdrawal' THEN -txn_amount\n",
    "            WHEN txn_type = 'purchase' THEN -txn_amount\n",
    "            ELSE txn_amount \n",
    "        END) AS flow_change\n",
    "    FROM data_bank.customer_transactions\n",
    "    GROUP BY customer_id, end_of_month \n",
    "    ORDER BY customer_id, end_of_month \n",
    "''')"
   ]
  },
  {
   "cell_type": "markdown",
   "metadata": {},
   "source": [
    "- Next, we can apply running total to get the cumulative balance at the end of every month (only for the months containing transactions).\n",
    "- HACK: We can generate \"0.00 amount of deposit\" transactions (for Jan to April 2020) just to ensure all months will be included per customer. So let's generate this table first."
   ]
  },
  {
   "cell_type": "code",
   "execution_count": 155,
   "metadata": {},
   "outputs": [
    {
     "data": {
      "text/html": [
       "<div>\n",
       "<style scoped>\n",
       "    .dataframe tbody tr th:only-of-type {\n",
       "        vertical-align: middle;\n",
       "    }\n",
       "\n",
       "    .dataframe tbody tr th {\n",
       "        vertical-align: top;\n",
       "    }\n",
       "\n",
       "    .dataframe thead th {\n",
       "        text-align: right;\n",
       "    }\n",
       "</style>\n",
       "<table border=\"1\" class=\"dataframe\">\n",
       "  <thead>\n",
       "    <tr style=\"text-align: right;\">\n",
       "      <th></th>\n",
       "      <th>min</th>\n",
       "      <th>max</th>\n",
       "    </tr>\n",
       "  </thead>\n",
       "  <tbody>\n",
       "    <tr>\n",
       "      <th>0</th>\n",
       "      <td>2020-01-01</td>\n",
       "      <td>2020-04-28</td>\n",
       "    </tr>\n",
       "  </tbody>\n",
       "</table>\n",
       "</div>"
      ],
      "text/plain": [
       "          min         max\n",
       "0  2020-01-01  2020-04-28"
      ]
     },
     "execution_count": 155,
     "metadata": {},
     "output_type": "execute_result"
    }
   ],
   "source": [
    "query('''\n",
    "    SELECT MIN(txn_date), MAX(txn_date)\n",
    "    FROM data_bank.customer_transactions\n",
    "''')"
   ]
  },
  {
   "cell_type": "code",
   "execution_count": 156,
   "metadata": {},
   "outputs": [
    {
     "data": {
      "text/html": [
       "<div>\n",
       "<style scoped>\n",
       "    .dataframe tbody tr th:only-of-type {\n",
       "        vertical-align: middle;\n",
       "    }\n",
       "\n",
       "    .dataframe tbody tr th {\n",
       "        vertical-align: top;\n",
       "    }\n",
       "\n",
       "    .dataframe thead th {\n",
       "        text-align: right;\n",
       "    }\n",
       "</style>\n",
       "<table border=\"1\" class=\"dataframe\">\n",
       "  <thead>\n",
       "    <tr style=\"text-align: right;\">\n",
       "      <th></th>\n",
       "      <th>customer_id</th>\n",
       "      <th>txn_date</th>\n",
       "      <th>txn_type</th>\n",
       "      <th>txn_amount</th>\n",
       "    </tr>\n",
       "  </thead>\n",
       "  <tbody>\n",
       "    <tr>\n",
       "      <th>0</th>\n",
       "      <td>1</td>\n",
       "      <td>2020-01-01</td>\n",
       "      <td>deposit</td>\n",
       "      <td>0</td>\n",
       "    </tr>\n",
       "    <tr>\n",
       "      <th>1</th>\n",
       "      <td>1</td>\n",
       "      <td>2020-02-01</td>\n",
       "      <td>deposit</td>\n",
       "      <td>0</td>\n",
       "    </tr>\n",
       "    <tr>\n",
       "      <th>2</th>\n",
       "      <td>1</td>\n",
       "      <td>2020-03-01</td>\n",
       "      <td>deposit</td>\n",
       "      <td>0</td>\n",
       "    </tr>\n",
       "    <tr>\n",
       "      <th>3</th>\n",
       "      <td>1</td>\n",
       "      <td>2020-04-01</td>\n",
       "      <td>deposit</td>\n",
       "      <td>0</td>\n",
       "    </tr>\n",
       "    <tr>\n",
       "      <th>4</th>\n",
       "      <td>2</td>\n",
       "      <td>2020-01-01</td>\n",
       "      <td>deposit</td>\n",
       "      <td>0</td>\n",
       "    </tr>\n",
       "    <tr>\n",
       "      <th>...</th>\n",
       "      <td>...</td>\n",
       "      <td>...</td>\n",
       "      <td>...</td>\n",
       "      <td>...</td>\n",
       "    </tr>\n",
       "    <tr>\n",
       "      <th>1995</th>\n",
       "      <td>499</td>\n",
       "      <td>2020-04-01</td>\n",
       "      <td>deposit</td>\n",
       "      <td>0</td>\n",
       "    </tr>\n",
       "    <tr>\n",
       "      <th>1996</th>\n",
       "      <td>500</td>\n",
       "      <td>2020-01-01</td>\n",
       "      <td>deposit</td>\n",
       "      <td>0</td>\n",
       "    </tr>\n",
       "    <tr>\n",
       "      <th>1997</th>\n",
       "      <td>500</td>\n",
       "      <td>2020-02-01</td>\n",
       "      <td>deposit</td>\n",
       "      <td>0</td>\n",
       "    </tr>\n",
       "    <tr>\n",
       "      <th>1998</th>\n",
       "      <td>500</td>\n",
       "      <td>2020-03-01</td>\n",
       "      <td>deposit</td>\n",
       "      <td>0</td>\n",
       "    </tr>\n",
       "    <tr>\n",
       "      <th>1999</th>\n",
       "      <td>500</td>\n",
       "      <td>2020-04-01</td>\n",
       "      <td>deposit</td>\n",
       "      <td>0</td>\n",
       "    </tr>\n",
       "  </tbody>\n",
       "</table>\n",
       "<p>2000 rows × 4 columns</p>\n",
       "</div>"
      ],
      "text/plain": [
       "      customer_id   txn_date txn_type  txn_amount\n",
       "0               1 2020-01-01  deposit           0\n",
       "1               1 2020-02-01  deposit           0\n",
       "2               1 2020-03-01  deposit           0\n",
       "3               1 2020-04-01  deposit           0\n",
       "4               2 2020-01-01  deposit           0\n",
       "...           ...        ...      ...         ...\n",
       "1995          499 2020-04-01  deposit           0\n",
       "1996          500 2020-01-01  deposit           0\n",
       "1997          500 2020-02-01  deposit           0\n",
       "1998          500 2020-03-01  deposit           0\n",
       "1999          500 2020-04-01  deposit           0\n",
       "\n",
       "[2000 rows x 4 columns]"
      ]
     },
     "execution_count": 156,
     "metadata": {},
     "output_type": "execute_result"
    }
   ],
   "source": [
    "query('''\n",
    "    SELECT \n",
    "        DISTINCT customer_id,\n",
    "        ('2020-01-01'::DATE + GENERATE_SERIES(0,3) * INTERVAL '1 MONTH') AS txn_date,\n",
    "        'deposit' AS txn_type,\n",
    "        0 AS txn_amount\n",
    "    FROM data_bank.customer_transactions\n",
    "    ORDER BY customer_id, txn_date\n",
    "''')"
   ]
  },
  {
   "cell_type": "markdown",
   "metadata": {},
   "source": [
    "- Now we perform the first query again, this time merging with the dummy table created right above."
   ]
  },
  {
   "cell_type": "code",
   "execution_count": 157,
   "metadata": {},
   "outputs": [
    {
     "data": {
      "text/html": [
       "<div>\n",
       "<style scoped>\n",
       "    .dataframe tbody tr th:only-of-type {\n",
       "        vertical-align: middle;\n",
       "    }\n",
       "\n",
       "    .dataframe tbody tr th {\n",
       "        vertical-align: top;\n",
       "    }\n",
       "\n",
       "    .dataframe thead th {\n",
       "        text-align: right;\n",
       "    }\n",
       "</style>\n",
       "<table border=\"1\" class=\"dataframe\">\n",
       "  <thead>\n",
       "    <tr style=\"text-align: right;\">\n",
       "      <th></th>\n",
       "      <th>customer_id</th>\n",
       "      <th>end_of_month</th>\n",
       "      <th>flow_change</th>\n",
       "    </tr>\n",
       "  </thead>\n",
       "  <tbody>\n",
       "    <tr>\n",
       "      <th>0</th>\n",
       "      <td>1</td>\n",
       "      <td>2020-01-31</td>\n",
       "      <td>312</td>\n",
       "    </tr>\n",
       "    <tr>\n",
       "      <th>1</th>\n",
       "      <td>1</td>\n",
       "      <td>2020-02-29</td>\n",
       "      <td>0</td>\n",
       "    </tr>\n",
       "    <tr>\n",
       "      <th>2</th>\n",
       "      <td>1</td>\n",
       "      <td>2020-03-31</td>\n",
       "      <td>-952</td>\n",
       "    </tr>\n",
       "    <tr>\n",
       "      <th>3</th>\n",
       "      <td>1</td>\n",
       "      <td>2020-04-30</td>\n",
       "      <td>0</td>\n",
       "    </tr>\n",
       "    <tr>\n",
       "      <th>4</th>\n",
       "      <td>2</td>\n",
       "      <td>2020-01-31</td>\n",
       "      <td>549</td>\n",
       "    </tr>\n",
       "    <tr>\n",
       "      <th>...</th>\n",
       "      <td>...</td>\n",
       "      <td>...</td>\n",
       "      <td>...</td>\n",
       "    </tr>\n",
       "    <tr>\n",
       "      <th>1995</th>\n",
       "      <td>499</td>\n",
       "      <td>2020-04-30</td>\n",
       "      <td>0</td>\n",
       "    </tr>\n",
       "    <tr>\n",
       "      <th>1996</th>\n",
       "      <td>500</td>\n",
       "      <td>2020-01-31</td>\n",
       "      <td>1594</td>\n",
       "    </tr>\n",
       "    <tr>\n",
       "      <th>1997</th>\n",
       "      <td>500</td>\n",
       "      <td>2020-02-29</td>\n",
       "      <td>1387</td>\n",
       "    </tr>\n",
       "    <tr>\n",
       "      <th>1998</th>\n",
       "      <td>500</td>\n",
       "      <td>2020-03-31</td>\n",
       "      <td>-730</td>\n",
       "    </tr>\n",
       "    <tr>\n",
       "      <th>1999</th>\n",
       "      <td>500</td>\n",
       "      <td>2020-04-30</td>\n",
       "      <td>0</td>\n",
       "    </tr>\n",
       "  </tbody>\n",
       "</table>\n",
       "<p>2000 rows × 3 columns</p>\n",
       "</div>"
      ],
      "text/plain": [
       "      customer_id end_of_month  flow_change\n",
       "0               1   2020-01-31          312\n",
       "1               1   2020-02-29            0\n",
       "2               1   2020-03-31         -952\n",
       "3               1   2020-04-30            0\n",
       "4               2   2020-01-31          549\n",
       "...           ...          ...          ...\n",
       "1995          499   2020-04-30            0\n",
       "1996          500   2020-01-31         1594\n",
       "1997          500   2020-02-29         1387\n",
       "1998          500   2020-03-31         -730\n",
       "1999          500   2020-04-30            0\n",
       "\n",
       "[2000 rows x 3 columns]"
      ]
     },
     "execution_count": 157,
     "metadata": {},
     "output_type": "execute_result"
    }
   ],
   "source": [
    "query('''\n",
    "    WITH transactions_with_missing_months_filled_cte AS(\n",
    "        SELECT * FROM data_bank.customer_transactions\n",
    "        UNION\n",
    "        SELECT \n",
    "            DISTINCT customer_id,\n",
    "            ('2020-01-01'::DATE + GENERATE_SERIES(0,3) * INTERVAL '1 MONTH') AS txn_date,\n",
    "            'deposit' AS txn_type,\n",
    "            0 AS txn_amount\n",
    "        FROM data_bank.customer_transactions\n",
    "    )   \n",
    "    SELECT \n",
    "        customer_id,\n",
    "        (DATE_TRUNC('month', txn_date) + INTERVAL '1 MONTH - 1 DAY')::DATE AS end_of_month, \n",
    "        SUM(CASE \n",
    "            WHEN txn_type = 'withdrawal' THEN -txn_amount\n",
    "            WHEN txn_type = 'purchase' THEN -txn_amount\n",
    "            ELSE txn_amount \n",
    "        END) AS flow_change\n",
    "    FROM transactions_with_missing_months_filled_cte\n",
    "    GROUP BY customer_id, end_of_month \n",
    "    ORDER BY customer_id, end_of_month \n",
    "''')"
   ]
  },
  {
   "cell_type": "markdown",
   "metadata": {},
   "source": [
    "- As we can see, we now have complete rows (500 customers * 4 months = 2000 rows). Yay!\n",
    "- We can now get the cumulative total per month by applying a window function in the main query."
   ]
  },
  {
   "cell_type": "code",
   "execution_count": 158,
   "metadata": {},
   "outputs": [
    {
     "data": {
      "text/html": [
       "<div>\n",
       "<style scoped>\n",
       "    .dataframe tbody tr th:only-of-type {\n",
       "        vertical-align: middle;\n",
       "    }\n",
       "\n",
       "    .dataframe tbody tr th {\n",
       "        vertical-align: top;\n",
       "    }\n",
       "\n",
       "    .dataframe thead th {\n",
       "        text-align: right;\n",
       "    }\n",
       "</style>\n",
       "<table border=\"1\" class=\"dataframe\">\n",
       "  <thead>\n",
       "    <tr style=\"text-align: right;\">\n",
       "      <th></th>\n",
       "      <th>customer_id</th>\n",
       "      <th>end_of_month</th>\n",
       "      <th>flow_change</th>\n",
       "      <th>ending_balance</th>\n",
       "    </tr>\n",
       "  </thead>\n",
       "  <tbody>\n",
       "    <tr>\n",
       "      <th>0</th>\n",
       "      <td>1</td>\n",
       "      <td>2020-01-31</td>\n",
       "      <td>312</td>\n",
       "      <td>312.0</td>\n",
       "    </tr>\n",
       "    <tr>\n",
       "      <th>1</th>\n",
       "      <td>1</td>\n",
       "      <td>2020-02-29</td>\n",
       "      <td>0</td>\n",
       "      <td>312.0</td>\n",
       "    </tr>\n",
       "    <tr>\n",
       "      <th>2</th>\n",
       "      <td>1</td>\n",
       "      <td>2020-03-31</td>\n",
       "      <td>-952</td>\n",
       "      <td>-640.0</td>\n",
       "    </tr>\n",
       "    <tr>\n",
       "      <th>3</th>\n",
       "      <td>1</td>\n",
       "      <td>2020-04-30</td>\n",
       "      <td>0</td>\n",
       "      <td>-640.0</td>\n",
       "    </tr>\n",
       "    <tr>\n",
       "      <th>4</th>\n",
       "      <td>2</td>\n",
       "      <td>2020-01-31</td>\n",
       "      <td>549</td>\n",
       "      <td>549.0</td>\n",
       "    </tr>\n",
       "    <tr>\n",
       "      <th>...</th>\n",
       "      <td>...</td>\n",
       "      <td>...</td>\n",
       "      <td>...</td>\n",
       "      <td>...</td>\n",
       "    </tr>\n",
       "    <tr>\n",
       "      <th>1995</th>\n",
       "      <td>499</td>\n",
       "      <td>2020-04-30</td>\n",
       "      <td>0</td>\n",
       "      <td>599.0</td>\n",
       "    </tr>\n",
       "    <tr>\n",
       "      <th>1996</th>\n",
       "      <td>500</td>\n",
       "      <td>2020-01-31</td>\n",
       "      <td>1594</td>\n",
       "      <td>1594.0</td>\n",
       "    </tr>\n",
       "    <tr>\n",
       "      <th>1997</th>\n",
       "      <td>500</td>\n",
       "      <td>2020-02-29</td>\n",
       "      <td>1387</td>\n",
       "      <td>2981.0</td>\n",
       "    </tr>\n",
       "    <tr>\n",
       "      <th>1998</th>\n",
       "      <td>500</td>\n",
       "      <td>2020-03-31</td>\n",
       "      <td>-730</td>\n",
       "      <td>2251.0</td>\n",
       "    </tr>\n",
       "    <tr>\n",
       "      <th>1999</th>\n",
       "      <td>500</td>\n",
       "      <td>2020-04-30</td>\n",
       "      <td>0</td>\n",
       "      <td>2251.0</td>\n",
       "    </tr>\n",
       "  </tbody>\n",
       "</table>\n",
       "<p>2000 rows × 4 columns</p>\n",
       "</div>"
      ],
      "text/plain": [
       "      customer_id end_of_month  flow_change  ending_balance\n",
       "0               1   2020-01-31          312           312.0\n",
       "1               1   2020-02-29            0           312.0\n",
       "2               1   2020-03-31         -952          -640.0\n",
       "3               1   2020-04-30            0          -640.0\n",
       "4               2   2020-01-31          549           549.0\n",
       "...           ...          ...          ...             ...\n",
       "1995          499   2020-04-30            0           599.0\n",
       "1996          500   2020-01-31         1594          1594.0\n",
       "1997          500   2020-02-29         1387          2981.0\n",
       "1998          500   2020-03-31         -730          2251.0\n",
       "1999          500   2020-04-30            0          2251.0\n",
       "\n",
       "[2000 rows x 4 columns]"
      ]
     },
     "execution_count": 158,
     "metadata": {},
     "output_type": "execute_result"
    }
   ],
   "source": [
    "query('''\n",
    "    WITH transactions_with_missing_months_filled_cte AS(\n",
    "        SELECT * FROM data_bank.customer_transactions\n",
    "        UNION\n",
    "        SELECT \n",
    "            DISTINCT customer_id,\n",
    "            ('2020-01-01'::DATE + GENERATE_SERIES(0,3) * INTERVAL '1 MONTH') AS txn_date,\n",
    "            'deposit' AS txn_type,\n",
    "            0 AS txn_amount\n",
    "        FROM data_bank.customer_transactions\n",
    "    ),\n",
    "    flow_changes_cte AS(   \n",
    "        SELECT \n",
    "            customer_id,\n",
    "            (DATE_TRUNC('month', txn_date) + INTERVAL '1 MONTH - 1 DAY')::DATE AS end_of_month, \n",
    "            SUM(CASE \n",
    "                WHEN txn_type = 'withdrawal' THEN -txn_amount\n",
    "                WHEN txn_type = 'purchase' THEN -txn_amount\n",
    "                ELSE txn_amount \n",
    "            END) AS flow_change\n",
    "        FROM transactions_with_missing_months_filled_cte\n",
    "        GROUP BY customer_id, end_of_month \n",
    "        ORDER BY customer_id, end_of_month\n",
    "    ) \n",
    "    SELECT\n",
    "        customer_id,\n",
    "        end_of_month,\n",
    "        flow_change,\n",
    "        SUM(flow_change) OVER (\n",
    "            PARTITION BY customer_id ORDER BY end_of_month      -- Window function\n",
    "            ROWS BETWEEN UNBOUNDED PRECEDING AND CURRENT ROW    -- Cumulative sum\n",
    "        ) AS ending_balance\n",
    "    FROM\n",
    "        flow_changes_cte\n",
    "''')"
   ]
  },
  {
   "cell_type": "markdown",
   "metadata": {},
   "source": [
    "Bonus: Get overall ending balances and flow changes from all customers by month"
   ]
  },
  {
   "cell_type": "code",
   "execution_count": 160,
   "metadata": {},
   "outputs": [
    {
     "data": {
      "text/html": [
       "<div>\n",
       "<style scoped>\n",
       "    .dataframe tbody tr th:only-of-type {\n",
       "        vertical-align: middle;\n",
       "    }\n",
       "\n",
       "    .dataframe tbody tr th {\n",
       "        vertical-align: top;\n",
       "    }\n",
       "\n",
       "    .dataframe thead th {\n",
       "        text-align: right;\n",
       "    }\n",
       "</style>\n",
       "<table border=\"1\" class=\"dataframe\">\n",
       "  <thead>\n",
       "    <tr style=\"text-align: right;\">\n",
       "      <th></th>\n",
       "      <th>end_of_month</th>\n",
       "      <th>overall_flow_change</th>\n",
       "      <th>overall_ending_balance</th>\n",
       "    </tr>\n",
       "  </thead>\n",
       "  <tbody>\n",
       "    <tr>\n",
       "      <th>0</th>\n",
       "      <td>2020-01-31</td>\n",
       "      <td>126091.0</td>\n",
       "      <td>126091.0</td>\n",
       "    </tr>\n",
       "    <tr>\n",
       "      <th>1</th>\n",
       "      <td>2020-02-29</td>\n",
       "      <td>-139799.0</td>\n",
       "      <td>-13708.0</td>\n",
       "    </tr>\n",
       "    <tr>\n",
       "      <th>2</th>\n",
       "      <td>2020-03-31</td>\n",
       "      <td>-170884.0</td>\n",
       "      <td>-184592.0</td>\n",
       "    </tr>\n",
       "    <tr>\n",
       "      <th>3</th>\n",
       "      <td>2020-04-30</td>\n",
       "      <td>-55780.0</td>\n",
       "      <td>-240372.0</td>\n",
       "    </tr>\n",
       "  </tbody>\n",
       "</table>\n",
       "</div>"
      ],
      "text/plain": [
       "  end_of_month  overall_flow_change  overall_ending_balance\n",
       "0   2020-01-31             126091.0                126091.0\n",
       "1   2020-02-29            -139799.0                -13708.0\n",
       "2   2020-03-31            -170884.0               -184592.0\n",
       "3   2020-04-30             -55780.0               -240372.0"
      ]
     },
     "execution_count": 160,
     "metadata": {},
     "output_type": "execute_result"
    }
   ],
   "source": [
    "q9b_df = query('''\n",
    "    WITH transactions_with_missing_months_filled_cte AS(\n",
    "        SELECT * FROM data_bank.customer_transactions\n",
    "        UNION\n",
    "        SELECT \n",
    "            DISTINCT customer_id,\n",
    "            ('2020-01-01'::DATE + GENERATE_SERIES(0,3) * INTERVAL '1 MONTH') AS txn_date,\n",
    "            'deposit' AS txn_type,\n",
    "            0 AS txn_amount\n",
    "        FROM data_bank.customer_transactions\n",
    "    ),\n",
    "    flow_changes_cte AS(   \n",
    "        SELECT \n",
    "            customer_id,\n",
    "            (DATE_TRUNC('month', txn_date) + INTERVAL '1 MONTH - 1 DAY')::DATE AS end_of_month, \n",
    "            SUM(CASE \n",
    "                WHEN txn_type = 'withdrawal' THEN -txn_amount\n",
    "                WHEN txn_type = 'purchase' THEN -txn_amount\n",
    "                ELSE txn_amount \n",
    "            END) AS flow_change\n",
    "        FROM transactions_with_missing_months_filled_cte\n",
    "        GROUP BY customer_id, end_of_month \n",
    "        ORDER BY customer_id, end_of_month\n",
    "    ), \n",
    "    ending_balances_cte AS(\n",
    "        SELECT\n",
    "            customer_id,\n",
    "            end_of_month,\n",
    "            flow_change,\n",
    "            SUM(flow_change) OVER (\n",
    "                PARTITION BY customer_id ORDER BY end_of_month      -- Window function\n",
    "                ROWS BETWEEN UNBOUNDED PRECEDING AND CURRENT ROW    -- Cumulative sum\n",
    "            ) AS ending_balance\n",
    "        FROM\n",
    "            flow_changes_cte\n",
    "    )\n",
    "    SELECT\n",
    "        end_of_month,\n",
    "        SUM(flow_change) AS overall_flow_change,\n",
    "        SUM(ending_balance) AS overall_ending_balance\n",
    "    FROM\n",
    "        ending_balances_cte\n",
    "    GROUP BY end_of_month\n",
    "    ORDER BY end_of_month\n",
    "''')\n",
    "q9b_df"
   ]
  },
  {
   "cell_type": "code",
   "execution_count": 174,
   "metadata": {},
   "outputs": [
    {
     "data": {
      "image/png": "[encoded data removed]",
      "text/plain": [
       "<Figure size 640x480 with 1 Axes>"
      ]
     },
     "metadata": {},
     "output_type": "display_data"
    }
   ],
   "source": [
    "sns.lineplot(data=q9b_df, x='end_of_month', y='overall_ending_balance', marker='o')\n",
    "plt.axhline(y=0, color='red',alpha=0.5,linestyle='--')\n",
    "plt.tight_layout()\n",
    "plt.xticks(rotation=30)\n",
    "plt.show()"
   ]
  },
  {
   "cell_type": "markdown",
   "metadata": {},
   "source": [
    "- Apparently, the bank went into a negative balance starting February 2020. Probably this can be attributed to the customers withdrawing a lot of money to secure as much goods they can to survive the COVID-19 lockdown!"
   ]
  },
  {
   "cell_type": "markdown",
   "metadata": {},
   "source": [
    "Q10: What is the percentage of customers who increase their closing balance by more than 5%?"
   ]
  },
  {
   "cell_type": "markdown",
   "metadata": {},
   "source": [
    "**C: Data Allocation Challenge**\n",
    "\n",
    "Q11: To test out a few different hypotheses - the Data Bank team wants to run an experiment where different groups of customers would be allocated data using 3 different options:\n",
    "- Option 1: data is allocated based off the amount of money at the end of the previous month\n",
    "- Option 2: data is allocated on the average amount of money kept in the account in the previous 30 days\n",
    "- Option 3: data is updated real-time\n",
    "\n",
    "For this multi-part challenge question - you have been requested to generate the following data elements to help the Data Bank team estimate how much data will need to be provisioned for each option:\n",
    "- running customer balance column that includes the impact each transaction\n",
    "- customer balance at the end of each month\n",
    "- minimum, average and maximum values of the running balance for each customer\n",
    "\n",
    "Using all of the data available - how much data would have been required for each option on a monthly basis?"
   ]
  },
  {
   "cell_type": "code",
   "execution_count": null,
   "metadata": {},
   "outputs": [],
   "source": []
  },
  {
   "cell_type": "markdown",
   "metadata": {},
   "source": [
    "**D. Extra Challenge**\n",
    "\n",
    "Data Bank wants to try another option which is a bit more difficult to implement - they want to calculate data growth using an interest calculation, just like in a traditional savings account you might have with a bank.\n",
    "\n",
    "If the annual interest rate is set at 6% and the Data Bank team wants to reward its customers by increasing their data allocation based off the interest calculated on a daily basis at the end of each day, how much data would be required for this option on a monthly basis?\n",
    "\n",
    "Special notes:\n",
    "- Data Bank wants an initial calculation which does not allow for compounding interest, however they may also be interested in a daily compounding interest calculation so you can try to perform this calculation if you have the stamina!"
   ]
  },
  {
   "cell_type": "code",
   "execution_count": null,
   "metadata": {},
   "outputs": [],
   "source": []
  },
  {
   "cell_type": "markdown",
   "metadata": {},
   "source": [
    "**E. Extension Request**\n",
    "\n",
    "The Data Bank team wants you to use the outputs generated from the above sections to create a quick Powerpoint presentation which will be used as marketing materials for both external investors who might want to buy Data Bank shares and new prospective customers who might want to bank with Data Bank.\n",
    "1. Using the outputs generated from the customer node questions, generate a few headline insights which Data Bank might use to market it’s world-leading security features to potential investors and customers.\n",
    "2. With the transaction analysis - prepare a 1 page presentation slide which contains all the relevant information about the various options for the data provisioning so the Data Bank management team can make an informed decision."
   ]
  },
  {
   "cell_type": "code",
   "execution_count": null,
   "metadata": {},
   "outputs": [],
   "source": []
  },
  {
   "cell_type": "markdown",
   "metadata": {},
   "source": [
    "**Conclusion**\n",
    "\n",
    "This case study aims to mimic traditional banking style transactions data but with a twist - hopefully it can give you some insight into the types of datasets you might encounter in a customer banking scenario."
   ]
  }
 ],
 "metadata": {
  "kernelspec": {
   "display_name": "Python 3",
   "language": "python",
   "name": "python3"
  },
  "language_info": {
   "codemirror_mode": {
    "name": "ipython",
    "version": 3
   },
   "file_extension": ".py",
   "mimetype": "text/x-python",
   "name": "python",
   "nbconvert_exporter": "python",
   "pygments_lexer": "ipython3",
   "version": "3.12.3"
  }
 },
 "nbformat": 4,
 "nbformat_minor": 2
}
