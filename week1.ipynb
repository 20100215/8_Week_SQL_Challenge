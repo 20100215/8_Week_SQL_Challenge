{
 "cells": [
  {
   "cell_type": "markdown",
   "metadata": {},
   "source": [
    "## Case Study #1 - Danny's Diner\n"
   ]
  },
  {
   "cell_type": "markdown",
   "metadata": {},
   "source": [
    "#### Problem Statement\n",
    "Danny wants to use the data to answer a few simple questions about his customers, especially about their visiting patterns, how much money they’ve spent and also which menu items are their favourite. Having this deeper connection with his customers will help him deliver a better and more personalised experience for his loyal customers.\n",
    "\n",
    "He plans on using these insights to help him decide whether he should expand the existing customer loyalty program - additionally he needs help to generate some basic datasets so his team can easily inspect the data without needing to use SQL.\n",
    "\n",
    "Danny has provided you with a sample of his overall customer data due to privacy issues - but he hopes that these examples are enough for you to write fully functioning SQL queries to help him answer his questions!\n",
    "\n",
    "Danny has shared with you 3 key datasets for this case study: `sales`, `menu`, and `members`"
   ]
  },
  {
   "cell_type": "markdown",
   "metadata": {},
   "source": [
    "#### Entity Relationship Diagram"
   ]
  },
  {
   "cell_type": "markdown",
   "metadata": {},
   "source": [
    "![week1.png](week1.png)"
   ]
  },
  {
   "cell_type": "markdown",
   "metadata": {},
   "source": [
    "Import modules"
   ]
  },
  {
   "cell_type": "code",
   "execution_count": 2,
   "metadata": {},
   "outputs": [],
   "source": [
    "import os\n",
    "import pandas as pd\n",
    "import numpy as np\n",
    "import matplotlib.pyplot as plt\n",
    "import sqlite3 as sql\n",
    "from sqlalchemy import text\n",
    "pd.set_option('display.max_columns', None)"
   ]
  },
  {
   "cell_type": "markdown",
   "metadata": {},
   "source": [
    "Initialize SQL"
   ]
  },
  {
   "cell_type": "code",
   "execution_count": 3,
   "metadata": {},
   "outputs": [
    {
     "data": {
      "text/plain": [
       "<sqlite3.Cursor at 0x1fcc65551c0>"
      ]
     },
     "execution_count": 3,
     "metadata": {},
     "output_type": "execute_result"
    }
   ],
   "source": [
    "conn = sql.connect(\"week1.db\")\n",
    "cursor = conn.cursor() \n",
    "with open('week1-sql.txt','r') as file:\n",
    "    script = file.read()\n",
    "    script = script.replace('\\n', ' ')\n",
    "cursor.executescript(script)"
   ]
  },
  {
   "cell_type": "markdown",
   "metadata": {},
   "source": [
    "Verify tables"
   ]
  },
  {
   "cell_type": "code",
   "execution_count": 7,
   "metadata": {},
   "outputs": [
    {
     "name": "stdout",
     "output_type": "stream",
     "text": [
      "The tables in the database are: sales, menu, members\n"
     ]
    }
   ],
   "source": [
    "query = \"\"\"SELECT name FROM sqlite_master WHERE type='table';\"\"\"\n",
    "cursor.execute(query)\n",
    "tables = [table[0] for table in cursor.fetchall()]\n",
    "tables\n",
    "print(f'The tables in the database are: {', '.join(tables)}')"
   ]
  },
  {
   "cell_type": "markdown",
   "metadata": {},
   "source": [
    "Fetch table information"
   ]
  },
  {
   "cell_type": "code",
   "execution_count": 50,
   "metadata": {},
   "outputs": [
    {
     "name": "stdout",
     "output_type": "stream",
     "text": [
      "=================================\n",
      "Table [sales]\n",
      "Dimensions: 15 rows x 3 columns\n",
      "\n",
      "  customer_id  order_date  product_id\n",
      "0           A  2021-01-01           1\n",
      "1           A  2021-01-01           2\n",
      "2           A  2021-01-07           2\n",
      "3           A  2021-01-10           3\n",
      "4           A  2021-01-11           3\n",
      "\n",
      "            Datatypes  NULL count\n",
      "customer_id    object           0\n",
      "order_date     object           0\n",
      "product_id      int64           0\n",
      "\n",
      "=================================\n",
      "Table [menu]\n",
      "Dimensions: 3 rows x 3 columns\n",
      "\n",
      "   product_id product_name  price\n",
      "0           1        sushi     10\n",
      "1           2        curry     15\n",
      "2           3        ramen     12\n",
      "\n",
      "             Datatypes  NULL count\n",
      "product_id       int64           0\n",
      "product_name    object           0\n",
      "price            int64           0\n",
      "\n",
      "=================================\n",
      "Table [members]\n",
      "Dimensions: 2 rows x 2 columns\n",
      "\n",
      "  customer_id   join_date\n",
      "0           A  2021-01-07\n",
      "1           B  2021-01-09\n",
      "\n",
      "            Datatypes  NULL count\n",
      "customer_id    object           0\n",
      "join_date      object           0\n",
      "\n"
     ]
    }
   ],
   "source": [
    "for table in tables:\n",
    "    print(\"=================================\")\n",
    "    print(f'Table [{table}]')\n",
    "    df = pd.read_sql_query(f'SELECT * FROM {table}', conn)\n",
    "    print(f'Dimensions: {df.shape[0]} rows x {df.shape[1]} columns\\n')\n",
    "    print(df.head())\n",
    "    info_df = pd.DataFrame.from_dict({'Datatypes':df.dtypes, 'NULL count':df.isna().sum()})\n",
    "    print()\n",
    "    print(info_df)\n",
    "    print()"
   ]
  },
  {
   "cell_type": "markdown",
   "metadata": {},
   "source": [
    "## Case Study Questions"
   ]
  },
  {
   "cell_type": "markdown",
   "metadata": {},
   "source": [
    "TASK 1: "
   ]
  },
  {
   "cell_type": "code",
   "execution_count": null,
   "metadata": {},
   "outputs": [
    {
     "name": "stdout",
     "output_type": "stream",
     "text": [
      "['sales']\n"
     ]
    }
   ],
   "source": [
    "# Sample\n",
    "query = \"\"\"          \n",
    "    SELECT \n",
    "    strftime('%Y-%m', dateordered) AS 'Order Month',\n",
    "    sum(orders) AS 'Total Orders',\n",
    "    sum(CASE WHEN orderstatus = 'returned' THEN 0 ELSE orders END) AS 'Completed Orders',\n",
    "    sum(CASE WHEN orderstatus = 'complete' THEN 0 ELSE orders END) AS 'Returned Orders',\n",
    "    100*round(sum(CASE WHEN orderstatus = 'complete' THEN 0 ELSE orders END)/((sum(orders))*1.00),4) AS 'Return Percentage'\n",
    "    FROM storeco \n",
    "    GROUP BY 1\n",
    "    ORDER BY 1 ASC;               \n",
    "\"\"\"\n",
    "result = pd.read_sql_query(query, conn)\n",
    "result"
   ]
  }
 ],
 "metadata": {
  "kernelspec": {
   "display_name": "Python 3",
   "language": "python",
   "name": "python3"
  },
  "language_info": {
   "codemirror_mode": {
    "name": "ipython",
    "version": 3
   },
   "file_extension": ".py",
   "mimetype": "text/x-python",
   "name": "python",
   "nbconvert_exporter": "python",
   "pygments_lexer": "ipython3",
   "version": "3.12.3"
  }
 },
 "nbformat": 4,
 "nbformat_minor": 2
}
