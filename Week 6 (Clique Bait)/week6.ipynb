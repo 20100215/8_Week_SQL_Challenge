{
 "cells": [
  {
   "cell_type": "markdown",
   "metadata": {},
   "source": [
    "## Case Study #6 - Clique Bait"
   ]
  },
  {
   "cell_type": "markdown",
   "metadata": {},
   "source": [
    "### Problem Statement\n",
    "\n",
    "Clique Bait is not like your regular online seafood store - the founder and CEO Danny, was also a part of a digital data analytics team and wanted to expand his knowledge into the seafood industry!\n",
    "\n",
    "In this case study - you are required to support Danny’s vision and analyse his dataset and come up with creative solutions to calculate funnel fallout rates for the Clique Bait online store.\n",
    "\n",
    "### Data\n",
    "\n",
    "For this case study there is a total of 5 datasets which you will need to combine to solve all of the questions.\n",
    "\n",
    "#### Users\n",
    "\n",
    "Customers who visit the Clique Bait website are tagged via their `cookie_id`.\n",
    "\n",
    "![image](week6a.png)\n",
    "\n",
    "#### Events\n",
    "\n",
    "Customer visits are logged in this `events` table at a `cookie_id` level and the `event_type` and `page_id` values can be used to join onto relevant satellite tables to obtain further information about each event.\n",
    "\n",
    "The `sequence_number` is used to order the events within each visit.\n",
    "\n",
    "![image](week6b.png)\n",
    "\n",
    "#### Event Identifier\n",
    "\n",
    "The `event_identifier` table shows the types of events which are captured by Clique Bait’s digital data systems.\n",
    "\n",
    "![image](week6c.png)\n",
    "\n",
    "#### Campaign Identifier\n",
    "\n",
    "This table shows information for the 3 campaigns that Clique Bait has ran on their website so far in 2020.\n",
    "\n",
    "![image](week6d.png)\n",
    "\n",
    "#### Page Hierarchy\n",
    "\n",
    "This table lists all of the pages on the Clique Bait website which are tagged and have data passing through from user interaction events.\n",
    "\n",
    "![image](week6e.png)"
   ]
  },
  {
   "cell_type": "markdown",
   "metadata": {},
   "source": [
    "Import modules"
   ]
  },
  {
   "cell_type": "code",
   "execution_count": 8,
   "metadata": {},
   "outputs": [],
   "source": [
    "# SQL Engine imports\n",
    "from dotenv import load_dotenv\n",
    "import os\n",
    "import psycopg2\n",
    "from sqlalchemy import create_engine\n",
    "from sqlalchemy.sql import text\n",
    "import warnings\n",
    "warnings.filterwarnings(\"ignore\")\n",
    "\n",
    "# Python data analysis imports\n",
    "import pandas as pd\n",
    "import numpy as np\n",
    "import matplotlib.pyplot as plt\n",
    "import matplotlib as mpl\n",
    "import seaborn as sns\n",
    "pd.set_option('display.max_columns', None)"
   ]
  },
  {
   "cell_type": "markdown",
   "metadata": {},
   "source": [
    "Initialize SQL"
   ]
  },
  {
   "cell_type": "code",
   "execution_count": 9,
   "metadata": {},
   "outputs": [],
   "source": [
    "load_dotenv()\n",
    "user = os.environ.get(\"USER\")\n",
    "pw = os.environ.get(\"PASS\")\n",
    "db = os.environ.get(\"DB\")\n",
    "host = os.environ.get(\"HOST\")\n",
    "api = os.environ.get(\"API\")\n",
    "port = 5432\n",
    "schema = 'clique_bait'"
   ]
  },
  {
   "cell_type": "code",
   "execution_count": 10,
   "metadata": {},
   "outputs": [],
   "source": [
    "uri = f\"postgresql+psycopg2://{user}:{pw}@{host}:{port}/{db}\"\n",
    "alchemyEngine = create_engine(uri)\n",
    "conn = alchemyEngine.connect()"
   ]
  },
  {
   "cell_type": "markdown",
   "metadata": {},
   "source": [
    "Verify tables"
   ]
  },
  {
   "cell_type": "code",
   "execution_count": 11,
   "metadata": {},
   "outputs": [
    {
     "name": "stdout",
     "output_type": "stream",
     "text": [
      "The tables in the database are: \n",
      "- event_identifier\n",
      "- campaign_identifier\n",
      "- page_hierarchy\n",
      "- users\n",
      "- events\n"
     ]
    }
   ],
   "source": [
    "rs = conn.execute(text(f\"SELECT table_name FROM information_schema.tables WHERE table_schema='{schema}'\"))\n",
    "tables = [table[0] for table in rs.fetchall()]\n",
    "print(f'The tables in the database are: \\n- {'\\n- '.join(tables)}')"
   ]
  },
  {
   "cell_type": "markdown",
   "metadata": {},
   "source": [
    "Fetch table information"
   ]
  },
  {
   "cell_type": "code",
   "execution_count": 12,
   "metadata": {},
   "outputs": [
    {
     "name": "stdout",
     "output_type": "stream",
     "text": [
      "=================================\n",
      "Table [event_identifier]\n",
      "Dimensions: 5 rows x 2 columns\n",
      "\n",
      "   event_type     event_name\n",
      "0           1      Page View\n",
      "1           2    Add to Cart\n",
      "2           3       Purchase\n",
      "3           4  Ad Impression\n",
      "4           5       Ad Click\n",
      "\n",
      "           Datatypes  NULL count\n",
      "event_type     int64           0\n",
      "event_name    object           0\n",
      "\n",
      "=================================\n",
      "Table [campaign_identifier]\n",
      "Dimensions: 3 rows x 5 columns\n",
      "\n",
      "   campaign_id products                      campaign_name start_date  \\\n",
      "0            1      1-3    BOGOF - Fishing For Compliments 2020-01-01   \n",
      "1            2      4-5      25% Off - Living The Lux Life 2020-01-15   \n",
      "2            3      6-8  Half Off - Treat Your Shellf(ish) 2020-02-01   \n",
      "\n",
      "    end_date  \n",
      "0 2020-01-14  \n",
      "1 2020-01-28  \n",
      "2 2020-03-31  \n",
      "\n",
      "                    Datatypes  NULL count\n",
      "campaign_id             int64           0\n",
      "products               object           0\n",
      "campaign_name          object           0\n",
      "start_date     datetime64[ns]           0\n",
      "end_date       datetime64[ns]           0\n",
      "\n",
      "=================================\n",
      "Table [page_hierarchy]\n",
      "Dimensions: 5 rows x 4 columns\n",
      "\n",
      "   page_id     page_name product_category  product_id\n",
      "0        1     Home Page             None         NaN\n",
      "1        2  All Products             None         NaN\n",
      "2        3        Salmon             Fish         1.0\n",
      "3        4      Kingfish             Fish         2.0\n",
      "4        5          Tuna             Fish         3.0\n",
      "\n",
      "                 Datatypes  NULL count\n",
      "page_id              int64           0\n",
      "page_name           object           0\n",
      "product_category    object           2\n",
      "product_id         float64           2\n",
      "\n",
      "=================================\n",
      "Table [users]\n",
      "Dimensions: 5 rows x 3 columns\n",
      "\n",
      "   user_id cookie_id start_date\n",
      "0        1    c4ca42 2020-02-04\n",
      "1        2    c81e72 2020-01-18\n",
      "2        3    eccbc8 2020-02-21\n",
      "3        4    a87ff6 2020-02-22\n",
      "4        5    e4da3b 2020-02-01\n",
      "\n",
      "                 Datatypes  NULL count\n",
      "user_id              int64           0\n",
      "cookie_id           object           0\n",
      "start_date  datetime64[ns]           0\n",
      "\n",
      "=================================\n",
      "Table [events]\n",
      "Dimensions: 5 rows x 6 columns\n",
      "\n",
      "  visit_id cookie_id  page_id  event_type  sequence_number  \\\n",
      "0   ccf365    c4ca42        1           1                1   \n",
      "1   ccf365    c4ca42        2           1                2   \n",
      "2   ccf365    c4ca42        6           1                3   \n",
      "3   ccf365    c4ca42        9           1                4   \n",
      "4   ccf365    c4ca42        9           2                5   \n",
      "\n",
      "                  event_time  \n",
      "0 2020-02-04 19:16:09.182546  \n",
      "1 2020-02-04 19:16:17.358191  \n",
      "2 2020-02-04 19:16:58.454669  \n",
      "3 2020-02-04 19:16:58.609142  \n",
      "4 2020-02-04 19:17:51.729420  \n",
      "\n",
      "                      Datatypes  NULL count\n",
      "visit_id                 object           0\n",
      "cookie_id                object           0\n",
      "page_id                   int64           0\n",
      "event_type                int64           0\n",
      "sequence_number           int64           0\n",
      "event_time       datetime64[ns]           0\n",
      "\n"
     ]
    }
   ],
   "source": [
    "for table in tables:\n",
    "    print(\"=================================\")\n",
    "    print(f'Table [{table}]')\n",
    "    df = pd.read_sql_query(f'SELECT * FROM {schema}.{table} LIMIT 5', conn)\n",
    "    print(f'Dimensions: {df.shape[0]} rows x {df.shape[1]} columns\\n')\n",
    "    print(df.head())\n",
    "    info_df = pd.DataFrame.from_dict({'Datatypes':df.dtypes, 'NULL count':df.isna().sum()})\n",
    "    print()\n",
    "    print(info_df)\n",
    "    print()"
   ]
  },
  {
   "cell_type": "code",
   "execution_count": 13,
   "metadata": {},
   "outputs": [],
   "source": [
    "def query(stmt: str):\n",
    "    \"\"\"Executes a given SQL statement and returns a Pandas DataFrame given the results.\n",
    "    \n",
    "    Parameters\n",
    "    ----------\n",
    "    stmt: str\n",
    "        The SQL statement to be executed\n",
    "    \"\"\"\n",
    "    global conn\n",
    "    result = pd.read_sql_query(stmt, conn)\n",
    "    return result"
   ]
  },
  {
   "cell_type": "markdown",
   "metadata": {},
   "source": [
    "## Case Study Questions"
   ]
  },
  {
   "cell_type": "markdown",
   "metadata": {},
   "source": [
    "The following case study questions include some general data exploration analysis for the nodes and transactions before diving right into the core business questions and finishes with a challenging final request!"
   ]
  },
  {
   "cell_type": "markdown",
   "metadata": {},
   "source": [
    "**A. Enterprise Relationship Diagram**\n",
    "\n",
    "Using the following DDL schema details to create an ERD for all the Clique Bait datasets.\n",
    "\n",
    "```sql\n",
    "CREATE TABLE clique_bait.event_identifier (\n",
    "  \"event_type\" INTEGER,\n",
    "  \"event_name\" VARCHAR(13)\n",
    ");\n",
    "\n",
    "CREATE TABLE clique_bait.campaign_identifier (\n",
    "  \"campaign_id\" INTEGER,\n",
    "  \"products\" VARCHAR(3),\n",
    "  \"campaign_name\" VARCHAR(33),\n",
    "  \"start_date\" TIMESTAMP,\n",
    "  \"end_date\" TIMESTAMP\n",
    ");\n",
    "\n",
    "CREATE TABLE clique_bait.page_hierarchy (\n",
    "  \"page_id\" INTEGER,\n",
    "  \"page_name\" VARCHAR(14),\n",
    "  \"product_category\" VARCHAR(9),\n",
    "  \"product_id\" INTEGER\n",
    ");\n",
    "\n",
    "CREATE TABLE clique_bait.users (\n",
    "  \"user_id\" INTEGER,\n",
    "  \"cookie_id\" VARCHAR(6),\n",
    "  \"start_date\" TIMESTAMP\n",
    ");\n",
    "\n",
    "CREATE TABLE clique_bait.events (\n",
    "  \"visit_id\" VARCHAR(6),\n",
    "  \"cookie_id\" VARCHAR(6),\n",
    "  \"page_id\" INTEGER,\n",
    "  \"event_type\" INTEGER,\n",
    "  \"sequence_number\" INTEGER,\n",
    "  \"event_time\" TIMESTAMP\n",
    ");\n",
    "```"
   ]
  },
  {
   "cell_type": "markdown",
   "metadata": {},
   "source": []
  },
  {
   "cell_type": "markdown",
   "metadata": {},
   "source": [
    "**B. Digital Analysis**\n",
    "\n",
    "Q2: How many users are there?"
   ]
  },
  {
   "cell_type": "code",
   "execution_count": null,
   "metadata": {},
   "outputs": [],
   "source": []
  },
  {
   "cell_type": "markdown",
   "metadata": {},
   "source": [
    "Q3: How many cookies does each user have on average?"
   ]
  },
  {
   "cell_type": "code",
   "execution_count": null,
   "metadata": {},
   "outputs": [],
   "source": []
  },
  {
   "cell_type": "markdown",
   "metadata": {},
   "source": [
    "Q4: What is the unique number of visits by all users per month?"
   ]
  },
  {
   "cell_type": "code",
   "execution_count": null,
   "metadata": {},
   "outputs": [],
   "source": []
  },
  {
   "cell_type": "markdown",
   "metadata": {},
   "source": [
    "Q5: What is the number of events for each event type?"
   ]
  },
  {
   "cell_type": "code",
   "execution_count": null,
   "metadata": {},
   "outputs": [],
   "source": []
  },
  {
   "cell_type": "markdown",
   "metadata": {},
   "source": [
    "Q6: What is the percentage of visits which have a purchase event?"
   ]
  },
  {
   "cell_type": "code",
   "execution_count": null,
   "metadata": {},
   "outputs": [],
   "source": []
  },
  {
   "cell_type": "markdown",
   "metadata": {},
   "source": [
    "Q7: What is the percentage of visits which view the checkout page but do not have a purchase event?"
   ]
  },
  {
   "cell_type": "code",
   "execution_count": null,
   "metadata": {},
   "outputs": [],
   "source": []
  },
  {
   "cell_type": "markdown",
   "metadata": {},
   "source": [
    "Q8: What are the top 3 pages by number of views?"
   ]
  },
  {
   "cell_type": "code",
   "execution_count": null,
   "metadata": {},
   "outputs": [],
   "source": []
  },
  {
   "cell_type": "markdown",
   "metadata": {},
   "source": [
    "Q9: What is the number of views and cart adds for each product category?"
   ]
  },
  {
   "cell_type": "code",
   "execution_count": null,
   "metadata": {},
   "outputs": [],
   "source": []
  },
  {
   "cell_type": "markdown",
   "metadata": {},
   "source": [
    "Q10: What are the top 3 products by purchases?"
   ]
  },
  {
   "cell_type": "code",
   "execution_count": null,
   "metadata": {},
   "outputs": [],
   "source": []
  },
  {
   "cell_type": "markdown",
   "metadata": {},
   "source": [
    "**C. Product Funnel Analysis**\n",
    "\n",
    "Q11: Using a single SQL query - create a new output table which has the following details:\n",
    "\n",
    "- How many times was each product viewed?\n",
    "- How many times was each product added to cart?\n",
    "- How many times was each product added to a cart but not purchased (abandoned)?\n",
    "- How many times was each product purchased?"
   ]
  },
  {
   "cell_type": "code",
   "execution_count": null,
   "metadata": {},
   "outputs": [],
   "source": []
  },
  {
   "cell_type": "markdown",
   "metadata": {},
   "source": [
    "Q12: Continuing from Q11, create another table which further aggregates the data for the above points but this time for each product category instead of individual products."
   ]
  },
  {
   "cell_type": "code",
   "execution_count": null,
   "metadata": {},
   "outputs": [],
   "source": []
  },
  {
   "cell_type": "markdown",
   "metadata": {},
   "source": [
    "Q13: Based on the new output tables earlier, which product had the most views, cart adds and purchases?"
   ]
  },
  {
   "cell_type": "code",
   "execution_count": null,
   "metadata": {},
   "outputs": [],
   "source": []
  },
  {
   "cell_type": "markdown",
   "metadata": {},
   "source": [
    "Q14: Based on the new output tables earlier, which product was most likely to be abandoned?"
   ]
  },
  {
   "cell_type": "code",
   "execution_count": null,
   "metadata": {},
   "outputs": [],
   "source": []
  },
  {
   "cell_type": "markdown",
   "metadata": {},
   "source": [
    "Q15: Based on the new output tables earlier, which product had the highest view to purchase percentage?"
   ]
  },
  {
   "cell_type": "code",
   "execution_count": null,
   "metadata": {},
   "outputs": [],
   "source": []
  },
  {
   "cell_type": "markdown",
   "metadata": {},
   "source": [
    "Q16: Based on the new output tables earlier, what is the average conversion rate from view to cart add?"
   ]
  },
  {
   "cell_type": "code",
   "execution_count": null,
   "metadata": {},
   "outputs": [],
   "source": []
  },
  {
   "cell_type": "markdown",
   "metadata": {},
   "source": [
    "Q17: Based on the output tables earlier, what is the average conversion rate from cart add to purchase?"
   ]
  },
  {
   "cell_type": "code",
   "execution_count": null,
   "metadata": {},
   "outputs": [],
   "source": []
  },
  {
   "cell_type": "markdown",
   "metadata": {},
   "source": [
    "**D. Campaigns Analysis**\n",
    "\n",
    "Q18: Generate a table that has 1 single row for every unique `visit_id` record and has the following columns:\n",
    "\n",
    "- `user_id`\n",
    "- `visit_id`\n",
    "- `visit_start_time`: the earliest `event_time` for each visit\n",
    "- `page_views`: count of page views for each visit\n",
    "- `cart_adds`: count of product cart add events for each visit\n",
    "- `purchase`: 1/0 flag if a purchase event exists for each visit\n",
    "- `campaign_name`: map the visit to a campaign if the `visit_start_time` falls between the `start_date` and `end_date`\n",
    "- `impression`: count of ad impressions for each visit\n",
    "- `click`: count of ad clicks for each visit\n",
    "- (Optional column) `cart_products`: a comma separated text value with products added to the cart sorted by the order they were added to the cart (hint: use the `sequence_number`)"
   ]
  },
  {
   "cell_type": "code",
   "execution_count": null,
   "metadata": {},
   "outputs": [],
   "source": []
  },
  {
   "cell_type": "markdown",
   "metadata": {},
   "source": [
    "Q19: Use the subsequent dataset to generate at least 5 insights for the Clique Bait team that it can use for their management reporting sessions, be sure to emphasise the most important points from your findings.\n",
    "\n",
    "Some ideas you might want to investigate further include:\n",
    "\n",
    "- Identifying users who have received impressions during each campaign period and comparing each metric with other users who did not have an impression event\n",
    "- Does clicking on an impression lead to higher purchase rates?\n",
    "- What is the uplift in purchase rate when comparing users who click on a campaign impression versus users who do not receive an impression? What if we compare them with users who just an impression but do not click?\n",
    "- What metrics can you use to quantify the success or failure of each campaign compared to eachother?"
   ]
  },
  {
   "cell_type": "markdown",
   "metadata": {},
   "source": []
  },
  {
   "cell_type": "markdown",
   "metadata": {},
   "source": [
    "### Conclusion\n",
    "\n",
    "This case study is based off my many years working with Digital datasets in consumer banking and retail supermarkets - all of the datasets are designed based off real datasets I’ve come across in challenging problem solving scenarios and the questions reflect similar problems which I worked on.\n",
    "\n",
    "Campaign analysis is almost everywhere in the data world, especially in marketing, digital, UX and retail industries - and being able to analyse views, clicks and other digital behaviour is a critical skill to have in your toolbelt as a data professional!"
   ]
  }
 ],
 "metadata": {
  "kernelspec": {
   "display_name": "Python 3",
   "language": "python",
   "name": "python3"
  },
  "language_info": {
   "codemirror_mode": {
    "name": "ipython",
    "version": 3
   },
   "file_extension": ".py",
   "mimetype": "text/x-python",
   "name": "python",
   "nbconvert_exporter": "python",
   "pygments_lexer": "ipython3",
   "version": "3.12.3"
  }
 },
 "nbformat": 4,
 "nbformat_minor": 2
}
