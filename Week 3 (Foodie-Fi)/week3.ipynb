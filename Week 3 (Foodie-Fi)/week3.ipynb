{
 "cells": [
  {
   "cell_type": "markdown",
   "metadata": {},
   "source": [
    "## Case Study #3 - Foodie-Fi"
   ]
  },
  {
   "cell_type": "markdown",
   "metadata": {},
   "source": [
    "#### Problem Statement\n",
    "Subscription based businesses are super popular and Danny realised that there was a large gap in the market - he wanted to create a new streaming service that only had food related content - something like Netflix but with only cooking shows!\n",
    "\n",
    "Danny finds a few smart friends to launch his new startup Foodie-Fi in 2020 and started selling monthly and annual subscriptions, giving their customers unlimited on-demand access to exclusive food videos from around the world!\n",
    "\n",
    "Danny created Foodie-Fi with a data driven mindset and wanted to ensure all future investment decisions and new features were decided using data. This case study focuses on using subscription style digital data to answer important business questions.\n",
    "\n",
    "Danny has shared the data design for Foodie-Fi and also short descriptions on each of the database tables - our case study focuses on only 2 tables but there will be a challenge to create a new table for the Foodie-Fi team."
   ]
  },
  {
   "cell_type": "markdown",
   "metadata": {},
   "source": [
    "#### Entity Relationship Diagram"
   ]
  },
  {
   "cell_type": "markdown",
   "metadata": {},
   "source": [
    "![week3.png](week3.png)"
   ]
  },
  {
   "cell_type": "markdown",
   "metadata": {},
   "source": [
    "Import modules"
   ]
  },
  {
   "cell_type": "code",
   "execution_count": 1,
   "metadata": {},
   "outputs": [],
   "source": [
    "import os\n",
    "import pandas as pd\n",
    "import numpy as np\n",
    "import matplotlib.pyplot as plt\n",
    "import sqlite3 as sql\n",
    "pd.set_option('display.max_columns', None)"
   ]
  },
  {
   "cell_type": "markdown",
   "metadata": {},
   "source": [
    "Initialize SQL"
   ]
  },
  {
   "cell_type": "code",
   "execution_count": 2,
   "metadata": {},
   "outputs": [],
   "source": [
    "conn = sql.connect(\"week3.db\")\n",
    "cursor = conn.cursor() \n",
    "if os.stat(\"week3.db\").st_size == 0:\n",
    "    with open('week3-sql.txt','r') as file:\n",
    "        script = file.read()\n",
    "        script = script.replace('\\n', ' ')\n",
    "    cursor.executescript(script)"
   ]
  },
  {
   "cell_type": "markdown",
   "metadata": {},
   "source": [
    "Verify tables"
   ]
  },
  {
   "cell_type": "code",
   "execution_count": 3,
   "metadata": {},
   "outputs": [
    {
     "name": "stdout",
     "output_type": "stream",
     "text": [
      "The tables in the database are: plans, subscriptions\n"
     ]
    }
   ],
   "source": [
    "query = \"\"\"SELECT name FROM sqlite_master WHERE type='table';\"\"\"\n",
    "cursor.execute(query)\n",
    "tables = [table[0] for table in cursor.fetchall()]\n",
    "tables\n",
    "print(f'The tables in the database are: {', '.join(tables)}')"
   ]
  },
  {
   "cell_type": "markdown",
   "metadata": {},
   "source": [
    "Fetch table information"
   ]
  },
  {
   "cell_type": "code",
   "execution_count": 4,
   "metadata": {},
   "outputs": [
    {
     "name": "stdout",
     "output_type": "stream",
     "text": [
      "=================================\n",
      "Table [plans]\n",
      "Dimensions: 5 rows x 3 columns\n",
      "\n",
      "   plan_id      plan_name  price\n",
      "0        0          trial    0.0\n",
      "1        1  basic monthly    9.9\n",
      "2        2    pro monthly   19.9\n",
      "3        3     pro annual  199.0\n",
      "4        4          churn    NaN\n",
      "\n",
      "          Datatypes  NULL count\n",
      "plan_id       int64           0\n",
      "plan_name    object           0\n",
      "price       float64           1\n",
      "\n",
      "=================================\n",
      "Table [subscriptions]\n",
      "Dimensions: 2650 rows x 3 columns\n",
      "\n",
      "   customer_id  plan_id  start_date\n",
      "0            1        0  2020-08-01\n",
      "1            1        1  2020-08-08\n",
      "2            2        0  2020-09-20\n",
      "3            2        3  2020-09-27\n",
      "4            3        0  2020-01-13\n",
      "\n",
      "            Datatypes  NULL count\n",
      "customer_id     int64           0\n",
      "plan_id         int64           0\n",
      "start_date     object           0\n",
      "\n"
     ]
    }
   ],
   "source": [
    "for table in tables:\n",
    "    print(\"=================================\")\n",
    "    print(f'Table [{table}]')\n",
    "    df = pd.read_sql_query(f'SELECT * FROM {table}', conn)\n",
    "    print(f'Dimensions: {df.shape[0]} rows x {df.shape[1]} columns\\n')\n",
    "    print(df.head())\n",
    "    info_df = pd.DataFrame.from_dict({'Datatypes':df.dtypes, 'NULL count':df.isna().sum()})\n",
    "    print()\n",
    "    print(info_df)\n",
    "    print()"
   ]
  },
  {
   "cell_type": "code",
   "execution_count": 5,
   "metadata": {},
   "outputs": [],
   "source": [
    "def query(stmt: str):\n",
    "    \"\"\"Executes a given SQL statement and returns a Pandas DataFrame given the results.\n",
    "    \n",
    "    Parameters\n",
    "    ----------\n",
    "    stmt: str\n",
    "        The SQL statement to be executed\n",
    "    \"\"\"\n",
    "    global conn\n",
    "    result = pd.read_sql_query(stmt, conn)\n",
    "    return result"
   ]
  },
  {
   "cell_type": "markdown",
   "metadata": {},
   "source": [
    "## Case Study Questions"
   ]
  },
  {
   "cell_type": "markdown",
   "metadata": {},
   "source": [
    "This case study is split into an initial data understanding question before diving straight into data analysis questions before finishing with 1 single extension challenge."
   ]
  },
  {
   "cell_type": "markdown",
   "metadata": {},
   "source": [
    "**A. Customer Journey**\n",
    "\n",
    "Q1: Based off the 8 sample customers provided in the sample from the subscriptions table, write a brief description about each customer’s onboarding journey.\n",
    "\n",
    "Try to keep it as short as possible - you may also want to run some sort of join to make your explanations a bit easier!"
   ]
  },
  {
   "cell_type": "markdown",
   "metadata": {},
   "source": [
    "**B. Data Analysis Questions**\n",
    "\n",
    "Q2: How many customers has Foodie-Fi ever had?"
   ]
  },
  {
   "cell_type": "markdown",
   "metadata": {},
   "source": [
    "Q3: What is the monthly distribution of trial plan start_date values for our dataset - use the start of the month as the group by value"
   ]
  },
  {
   "cell_type": "markdown",
   "metadata": {},
   "source": [
    "Q4: What is the customer count and percentage of customers who have churned rounded to 1 decimal place?"
   ]
  },
  {
   "cell_type": "markdown",
   "metadata": {},
   "source": [
    "Q5: How many customers have churned straight after their initial free trial - what percentage is this rounded to the nearest whole number?"
   ]
  },
  {
   "cell_type": "markdown",
   "metadata": {},
   "source": [
    "Q6: What is the number and percentage of customer plans after their initial free trial?"
   ]
  },
  {
   "cell_type": "markdown",
   "metadata": {},
   "source": [
    "Q7: What is the customer count and percentage breakdown of all 5 plan_name values at 2020-12-31?"
   ]
  },
  {
   "cell_type": "markdown",
   "metadata": {},
   "source": [
    "Q8: How many customers have upgraded to an annual plan in 2020?"
   ]
  },
  {
   "cell_type": "markdown",
   "metadata": {},
   "source": [
    "Q9: How many days on average does it take for a customer to an annual plan from the day they join Foodie-Fi?"
   ]
  },
  {
   "cell_type": "markdown",
   "metadata": {},
   "source": [
    "Q10: Can you further breakdown this average value into 30 day periods (i.e. 0-30 days, 31-60 days etc)"
   ]
  },
  {
   "cell_type": "markdown",
   "metadata": {},
   "source": [
    "Q11: How many customers downgraded from a pro monthly to a basic monthly plan in 2020?"
   ]
  },
  {
   "cell_type": "markdown",
   "metadata": {},
   "source": [
    "**C. Challenge Payment Question**\n",
    "\n",
    "Q12: The Foodie-Fi team wants you to create a new payments table for the year 2020 that includes amounts paid by each customer in the subscriptions table with the following requirements:\n",
    "\n",
    "- monthly payments always occur on the same day of month as the original start_date of any monthly paid plan\n",
    "- upgrades from basic to monthly or pro plans are reduced by the current paid amount in that month and start immediately\n",
    "- upgrades from pro monthly to pro annual are paid at the end of the current billing period and also starts at the end of the month period\n",
    "- once a customer churns they will no longer make payments"
   ]
  },
  {
   "cell_type": "markdown",
   "metadata": {},
   "source": [
    "**D. Additional Questions (Open-Ended)**"
   ]
  },
  {
   "cell_type": "markdown",
   "metadata": {},
   "source": [
    "Q13: How would you calculate the rate of growth for Foodie-Fi?"
   ]
  },
  {
   "cell_type": "markdown",
   "metadata": {},
   "source": [
    "Q14: What key metrics would you recommend Foodie-Fi management to track over time to assess performance of their overall business?"
   ]
  },
  {
   "cell_type": "markdown",
   "metadata": {},
   "source": [
    "Q15: What are some key customer journeys or experiences that you would analyse further to improve customer retention?"
   ]
  },
  {
   "cell_type": "markdown",
   "metadata": {},
   "source": [
    "Q16: If the Foodie-Fi team were to create an exit survey shown to customers who wish to cancel their subscription, what questions would you include in the survey?"
   ]
  },
  {
   "cell_type": "markdown",
   "metadata": {},
   "source": [
    "Q17: What business levers could the Foodie-Fi team use to reduce the customer churn rate? How would you validate the effectiveness of your ideas?\n",
    "Conclusion"
   ]
  }
 ],
 "metadata": {
  "kernelspec": {
   "display_name": "Python 3",
   "language": "python",
   "name": "python3"
  },
  "language_info": {
   "codemirror_mode": {
    "name": "ipython",
    "version": 3
   },
   "file_extension": ".py",
   "mimetype": "text/x-python",
   "name": "python",
   "nbconvert_exporter": "python",
   "pygments_lexer": "ipython3",
   "version": "3.12.3"
  }
 },
 "nbformat": 4,
 "nbformat_minor": 2
}
