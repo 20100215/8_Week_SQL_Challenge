{
 "cells": [
  {
   "cell_type": "markdown",
   "metadata": {},
   "source": [
    "## Case Study #3 - Foodie-Fi"
   ]
  },
  {
   "cell_type": "markdown",
   "metadata": {},
   "source": [
    "#### Problem Statement\n",
    "Subscription based businesses are super popular and Danny realised that there was a large gap in the market - he wanted to create a new streaming service that only had food related content - something like Netflix but with only cooking shows!\n",
    "\n",
    "Danny finds a few smart friends to launch his new startup Foodie-Fi in 2020 and started selling monthly and annual subscriptions, giving their customers unlimited on-demand access to exclusive food videos from around the world!\n",
    "\n",
    "Danny created Foodie-Fi with a data driven mindset and wanted to ensure all future investment decisions and new features were decided using data. This case study focuses on using subscription style digital data to answer important business questions.\n",
    "\n",
    "Danny has shared the data design for Foodie-Fi and also short descriptions on each of the database tables - our case study focuses on only 2 tables but there will be a challenge to create a new table for the Foodie-Fi team."
   ]
  },
  {
   "cell_type": "markdown",
   "metadata": {},
   "source": [
    "#### Entity Relationship Diagram"
   ]
  },
  {
   "cell_type": "markdown",
   "metadata": {},
   "source": [
    "![week3.png](week3.png)"
   ]
  },
  {
   "cell_type": "markdown",
   "metadata": {},
   "source": [
    "Import modules"
   ]
  },
  {
   "cell_type": "code",
   "execution_count": 1,
   "metadata": {},
   "outputs": [],
   "source": [
    "import os\n",
    "import pandas as pd\n",
    "import numpy as np\n",
    "import matplotlib.pyplot as plt\n",
    "import seaborn as sns\n",
    "import sqlite3 as sql\n",
    "pd.set_option('display.max_columns', None)"
   ]
  },
  {
   "cell_type": "markdown",
   "metadata": {},
   "source": [
    "Initialize SQL"
   ]
  },
  {
   "cell_type": "code",
   "execution_count": 2,
   "metadata": {},
   "outputs": [],
   "source": [
    "conn = sql.connect(\"week3.db\")\n",
    "cursor = conn.cursor() \n",
    "if os.stat(\"week3.db\").st_size == 0:\n",
    "    with open('week3-sql.txt','r') as file:\n",
    "        script = file.read()\n",
    "        script = script.replace('\\n', ' ')\n",
    "    cursor.executescript(script)"
   ]
  },
  {
   "cell_type": "markdown",
   "metadata": {},
   "source": [
    "Verify tables"
   ]
  },
  {
   "cell_type": "code",
   "execution_count": 3,
   "metadata": {},
   "outputs": [
    {
     "name": "stdout",
     "output_type": "stream",
     "text": [
      "The tables in the database are: plans, subscriptions\n"
     ]
    }
   ],
   "source": [
    "query = \"\"\"SELECT name FROM sqlite_master WHERE type='table';\"\"\"\n",
    "cursor.execute(query)\n",
    "tables = [table[0] for table in cursor.fetchall()]\n",
    "tables\n",
    "print(f'The tables in the database are: {', '.join(tables)}')"
   ]
  },
  {
   "cell_type": "markdown",
   "metadata": {},
   "source": [
    "Fetch table information"
   ]
  },
  {
   "cell_type": "code",
   "execution_count": 4,
   "metadata": {},
   "outputs": [
    {
     "name": "stdout",
     "output_type": "stream",
     "text": [
      "=================================\n",
      "Table [plans]\n",
      "Dimensions: 5 rows x 3 columns\n",
      "\n",
      "   plan_id      plan_name  price\n",
      "0        0          trial    0.0\n",
      "1        1  basic monthly    9.9\n",
      "2        2    pro monthly   19.9\n",
      "3        3     pro annual  199.0\n",
      "4        4          churn    NaN\n",
      "\n",
      "          Datatypes  NULL count\n",
      "plan_id       int64           0\n",
      "plan_name    object           0\n",
      "price       float64           1\n",
      "\n",
      "=================================\n",
      "Table [subscriptions]\n",
      "Dimensions: 2650 rows x 3 columns\n",
      "\n",
      "   customer_id  plan_id  start_date\n",
      "0            1        0  2020-08-01\n",
      "1            1        1  2020-08-08\n",
      "2            2        0  2020-09-20\n",
      "3            2        3  2020-09-27\n",
      "4            3        0  2020-01-13\n",
      "\n",
      "            Datatypes  NULL count\n",
      "customer_id     int64           0\n",
      "plan_id         int64           0\n",
      "start_date     object           0\n",
      "\n"
     ]
    }
   ],
   "source": [
    "for table in tables:\n",
    "    print(\"=================================\")\n",
    "    print(f'Table [{table}]')\n",
    "    df = pd.read_sql_query(f'SELECT * FROM {table}', conn)\n",
    "    print(f'Dimensions: {df.shape[0]} rows x {df.shape[1]} columns\\n')\n",
    "    print(df.head())\n",
    "    info_df = pd.DataFrame.from_dict({'Datatypes':df.dtypes, 'NULL count':df.isna().sum()})\n",
    "    print()\n",
    "    print(info_df)\n",
    "    print()"
   ]
  },
  {
   "cell_type": "code",
   "execution_count": 5,
   "metadata": {},
   "outputs": [],
   "source": [
    "def query(stmt: str):\n",
    "    \"\"\"Executes a given SQL statement and returns a Pandas DataFrame given the results.\n",
    "    \n",
    "    Parameters\n",
    "    ----------\n",
    "    stmt: str\n",
    "        The SQL statement to be executed\n",
    "    \"\"\"\n",
    "    global conn\n",
    "    result = pd.read_sql_query(stmt, conn)\n",
    "    return result"
   ]
  },
  {
   "cell_type": "markdown",
   "metadata": {},
   "source": [
    "## Case Study Questions"
   ]
  },
  {
   "cell_type": "markdown",
   "metadata": {},
   "source": [
    "This case study is split into an initial data understanding question before diving straight into data analysis questions before finishing with 1 single extension challenge."
   ]
  },
  {
   "cell_type": "markdown",
   "metadata": {},
   "source": [
    "**A. Customer Journey**\n",
    "\n",
    "Q1: Based off the 8 sample customers provided in the sample from the subscriptions table, write a brief description about each customer’s onboarding journey.\n",
    "\n",
    "Try to keep it as short as possible - you may also want to run some sort of join to make your explanations a bit easier!\n",
    "\n",
    "- The IDs of the sample customers were: 1, 2, 11, 13, 15, 16, 18, 19"
   ]
  },
  {
   "cell_type": "code",
   "execution_count": 6,
   "metadata": {},
   "outputs": [
    {
     "data": {
      "text/html": [
       "<div>\n",
       "<style scoped>\n",
       "    .dataframe tbody tr th:only-of-type {\n",
       "        vertical-align: middle;\n",
       "    }\n",
       "\n",
       "    .dataframe tbody tr th {\n",
       "        vertical-align: top;\n",
       "    }\n",
       "\n",
       "    .dataframe thead th {\n",
       "        text-align: right;\n",
       "    }\n",
       "</style>\n",
       "<table border=\"1\" class=\"dataframe\">\n",
       "  <thead>\n",
       "    <tr style=\"text-align: right;\">\n",
       "      <th></th>\n",
       "      <th>customer_id</th>\n",
       "      <th>trial_date</th>\n",
       "      <th>basic_monthly_date</th>\n",
       "      <th>pro_monthly_date</th>\n",
       "      <th>pro_annual_date</th>\n",
       "      <th>churn_date</th>\n",
       "    </tr>\n",
       "  </thead>\n",
       "  <tbody>\n",
       "    <tr>\n",
       "      <th>0</th>\n",
       "      <td>1</td>\n",
       "      <td>2020-08-01</td>\n",
       "      <td>2020-08-08</td>\n",
       "      <td>None</td>\n",
       "      <td>None</td>\n",
       "      <td>None</td>\n",
       "    </tr>\n",
       "    <tr>\n",
       "      <th>1</th>\n",
       "      <td>2</td>\n",
       "      <td>2020-09-20</td>\n",
       "      <td>None</td>\n",
       "      <td>None</td>\n",
       "      <td>2020-09-27</td>\n",
       "      <td>None</td>\n",
       "    </tr>\n",
       "    <tr>\n",
       "      <th>2</th>\n",
       "      <td>11</td>\n",
       "      <td>2020-11-19</td>\n",
       "      <td>None</td>\n",
       "      <td>None</td>\n",
       "      <td>None</td>\n",
       "      <td>2020-11-26</td>\n",
       "    </tr>\n",
       "    <tr>\n",
       "      <th>3</th>\n",
       "      <td>13</td>\n",
       "      <td>2020-12-15</td>\n",
       "      <td>2020-12-22</td>\n",
       "      <td>2021-03-29</td>\n",
       "      <td>None</td>\n",
       "      <td>None</td>\n",
       "    </tr>\n",
       "    <tr>\n",
       "      <th>4</th>\n",
       "      <td>15</td>\n",
       "      <td>2020-03-17</td>\n",
       "      <td>None</td>\n",
       "      <td>2020-03-24</td>\n",
       "      <td>None</td>\n",
       "      <td>2020-04-29</td>\n",
       "    </tr>\n",
       "    <tr>\n",
       "      <th>5</th>\n",
       "      <td>16</td>\n",
       "      <td>2020-05-31</td>\n",
       "      <td>2020-06-07</td>\n",
       "      <td>None</td>\n",
       "      <td>2020-10-21</td>\n",
       "      <td>None</td>\n",
       "    </tr>\n",
       "    <tr>\n",
       "      <th>6</th>\n",
       "      <td>18</td>\n",
       "      <td>2020-07-06</td>\n",
       "      <td>None</td>\n",
       "      <td>2020-07-13</td>\n",
       "      <td>None</td>\n",
       "      <td>None</td>\n",
       "    </tr>\n",
       "    <tr>\n",
       "      <th>7</th>\n",
       "      <td>19</td>\n",
       "      <td>2020-06-22</td>\n",
       "      <td>None</td>\n",
       "      <td>2020-06-29</td>\n",
       "      <td>2020-08-29</td>\n",
       "      <td>None</td>\n",
       "    </tr>\n",
       "  </tbody>\n",
       "</table>\n",
       "</div>"
      ],
      "text/plain": [
       "   customer_id  trial_date basic_monthly_date pro_monthly_date  \\\n",
       "0            1  2020-08-01         2020-08-08             None   \n",
       "1            2  2020-09-20               None             None   \n",
       "2           11  2020-11-19               None             None   \n",
       "3           13  2020-12-15         2020-12-22       2021-03-29   \n",
       "4           15  2020-03-17               None       2020-03-24   \n",
       "5           16  2020-05-31         2020-06-07             None   \n",
       "6           18  2020-07-06               None       2020-07-13   \n",
       "7           19  2020-06-22               None       2020-06-29   \n",
       "\n",
       "  pro_annual_date  churn_date  \n",
       "0            None        None  \n",
       "1      2020-09-27        None  \n",
       "2            None  2020-11-26  \n",
       "3            None        None  \n",
       "4            None  2020-04-29  \n",
       "5      2020-10-21        None  \n",
       "6            None        None  \n",
       "7      2020-08-29        None  "
      ]
     },
     "execution_count": 6,
     "metadata": {},
     "output_type": "execute_result"
    }
   ],
   "source": [
    "# Create a table where each row is a customer and the columns represent the start dates of their plans\n",
    "query('''\n",
    "    WITH customers (customer_id) as (VALUES (1),(2),(11),(13),(15),(16),(18),(19)),\n",
    "    \n",
    "    p0_dates AS (\n",
    "        SELECT customer_id, start_date\n",
    "        FROM subscriptions\n",
    "        WHERE plan_id = 0\n",
    "        AND customer_id IN customers\n",
    "    ),\n",
    "    p1_dates AS (\n",
    "        SELECT customer_id, start_date\n",
    "        FROM subscriptions\n",
    "        WHERE plan_id = 1\n",
    "        AND customer_id IN customers\n",
    "    ),\n",
    "    p2_dates AS (\n",
    "        SELECT customer_id, start_date\n",
    "        FROM subscriptions\n",
    "        WHERE plan_id = 2\n",
    "        AND customer_id IN customers\n",
    "    ),\n",
    "    p3_dates AS (\n",
    "        SELECT customer_id, start_date\n",
    "        FROM subscriptions\n",
    "        WHERE plan_id = 3\n",
    "        AND customer_id IN customers\n",
    "    ),\n",
    "    p4_dates AS (\n",
    "        SELECT customer_id, start_date\n",
    "        FROM subscriptions\n",
    "        WHERE plan_id = 4\n",
    "        AND customer_id IN customers\n",
    "    )\n",
    "      \n",
    "    SELECT customers.customer_id,\n",
    "        p0.start_date as trial_date,\n",
    "        p1.start_date as basic_monthly_date,\n",
    "        p2.start_date as pro_monthly_date,\n",
    "        p3.start_date as pro_annual_date,\n",
    "        p4.start_date as churn_date\n",
    "    FROM customers\n",
    "        LEFT JOIN p0_dates p0 USING (customer_id)\n",
    "        LEFT JOIN p1_dates p1 USING (customer_id)\n",
    "        LEFT JOIN p2_dates p2 USING (customer_id)\n",
    "        LEFT JOIN p3_dates p3 USING (customer_id)\n",
    "        LEFT JOIN p4_dates p4 USING (customer_id)\n",
    "''')"
   ]
  },
  {
   "cell_type": "markdown",
   "metadata": {},
   "source": [
    "- Customer 1 started his free trial on Aug 1, 2020 and subscribed to the basic monthly plan 7 days after until present.\n",
    "- Customer 2 started his free trial on Sep 20, 2020 and subscribed to the pro annual plan 7 days after until present.\n",
    "- Customer 15 started his free trial on Mar 17, 2020 and subscribed to the pro monthly plan 7 days after, but churned on Apr 29, 2020."
   ]
  },
  {
   "cell_type": "markdown",
   "metadata": {},
   "source": [
    "**B. Data Analysis Questions**\n",
    "\n",
    "Q2: How many customers has Foodie-Fi ever had?"
   ]
  },
  {
   "cell_type": "code",
   "execution_count": 7,
   "metadata": {},
   "outputs": [
    {
     "data": {
      "text/html": [
       "<div>\n",
       "<style scoped>\n",
       "    .dataframe tbody tr th:only-of-type {\n",
       "        vertical-align: middle;\n",
       "    }\n",
       "\n",
       "    .dataframe tbody tr th {\n",
       "        vertical-align: top;\n",
       "    }\n",
       "\n",
       "    .dataframe thead th {\n",
       "        text-align: right;\n",
       "    }\n",
       "</style>\n",
       "<table border=\"1\" class=\"dataframe\">\n",
       "  <thead>\n",
       "    <tr style=\"text-align: right;\">\n",
       "      <th></th>\n",
       "      <th>num_customers</th>\n",
       "    </tr>\n",
       "  </thead>\n",
       "  <tbody>\n",
       "    <tr>\n",
       "      <th>0</th>\n",
       "      <td>1000</td>\n",
       "    </tr>\n",
       "  </tbody>\n",
       "</table>\n",
       "</div>"
      ],
      "text/plain": [
       "   num_customers\n",
       "0           1000"
      ]
     },
     "execution_count": 7,
     "metadata": {},
     "output_type": "execute_result"
    }
   ],
   "source": [
    "query('''\n",
    "    SELECT COUNT(DISTINCT customer_id) AS num_customers\n",
    "    FROM subscriptions;\n",
    "''')"
   ]
  },
  {
   "cell_type": "markdown",
   "metadata": {},
   "source": [
    "Q3: What is the monthly distribution of trial plan start_date values for our dataset - use the start of the month as the group by value"
   ]
  },
  {
   "cell_type": "code",
   "execution_count": 8,
   "metadata": {},
   "outputs": [
    {
     "data": {
      "text/html": [
       "<div>\n",
       "<style scoped>\n",
       "    .dataframe tbody tr th:only-of-type {\n",
       "        vertical-align: middle;\n",
       "    }\n",
       "\n",
       "    .dataframe tbody tr th {\n",
       "        vertical-align: top;\n",
       "    }\n",
       "\n",
       "    .dataframe thead th {\n",
       "        text-align: right;\n",
       "    }\n",
       "</style>\n",
       "<table border=\"1\" class=\"dataframe\">\n",
       "  <thead>\n",
       "    <tr style=\"text-align: right;\">\n",
       "      <th></th>\n",
       "      <th>month_date</th>\n",
       "      <th>trial_plan_subscriptions</th>\n",
       "    </tr>\n",
       "  </thead>\n",
       "  <tbody>\n",
       "    <tr>\n",
       "      <th>0</th>\n",
       "      <td>01</td>\n",
       "      <td>88</td>\n",
       "    </tr>\n",
       "    <tr>\n",
       "      <th>1</th>\n",
       "      <td>02</td>\n",
       "      <td>68</td>\n",
       "    </tr>\n",
       "    <tr>\n",
       "      <th>2</th>\n",
       "      <td>03</td>\n",
       "      <td>94</td>\n",
       "    </tr>\n",
       "    <tr>\n",
       "      <th>3</th>\n",
       "      <td>04</td>\n",
       "      <td>81</td>\n",
       "    </tr>\n",
       "    <tr>\n",
       "      <th>4</th>\n",
       "      <td>05</td>\n",
       "      <td>88</td>\n",
       "    </tr>\n",
       "    <tr>\n",
       "      <th>5</th>\n",
       "      <td>06</td>\n",
       "      <td>79</td>\n",
       "    </tr>\n",
       "    <tr>\n",
       "      <th>6</th>\n",
       "      <td>07</td>\n",
       "      <td>89</td>\n",
       "    </tr>\n",
       "    <tr>\n",
       "      <th>7</th>\n",
       "      <td>08</td>\n",
       "      <td>88</td>\n",
       "    </tr>\n",
       "    <tr>\n",
       "      <th>8</th>\n",
       "      <td>09</td>\n",
       "      <td>87</td>\n",
       "    </tr>\n",
       "    <tr>\n",
       "      <th>9</th>\n",
       "      <td>10</td>\n",
       "      <td>79</td>\n",
       "    </tr>\n",
       "    <tr>\n",
       "      <th>10</th>\n",
       "      <td>11</td>\n",
       "      <td>75</td>\n",
       "    </tr>\n",
       "    <tr>\n",
       "      <th>11</th>\n",
       "      <td>12</td>\n",
       "      <td>84</td>\n",
       "    </tr>\n",
       "  </tbody>\n",
       "</table>\n",
       "</div>"
      ],
      "text/plain": [
       "   month_date  trial_plan_subscriptions\n",
       "0          01                        88\n",
       "1          02                        68\n",
       "2          03                        94\n",
       "3          04                        81\n",
       "4          05                        88\n",
       "5          06                        79\n",
       "6          07                        89\n",
       "7          08                        88\n",
       "8          09                        87\n",
       "9          10                        79\n",
       "10         11                        75\n",
       "11         12                        84"
      ]
     },
     "execution_count": 8,
     "metadata": {},
     "output_type": "execute_result"
    }
   ],
   "source": [
    "q3_df = query('''\n",
    "    SELECT\n",
    "        strftime('%m',start_date) AS month_date, -- Cast start_date as month in numerical format\n",
    "        COUNT(s.customer_id) AS trial_plan_subscriptions\n",
    "    FROM subscriptions AS s\n",
    "        JOIN plans p\n",
    "        ON s.plan_id = p.plan_id\n",
    "    WHERE s.plan_id = 0 -- Trial plan ID is 0\n",
    "    GROUP BY month_date\n",
    "    ORDER BY month_date;\n",
    "''')\n",
    "q3_df"
   ]
  },
  {
   "cell_type": "code",
   "execution_count": 12,
   "metadata": {},
   "outputs": [
    {
     "data": {
      "text/plain": [
       "<Axes: xlabel='month_date', ylabel='trial_plan_subscriptions'>"
      ]
     },
     "execution_count": 12,
     "metadata": {},
     "output_type": "execute_result"
    },
    {
     "data": {
      "image/png": "[encoded data removed]",
      "text/plain": [
       "<Figure size 640x480 with 1 Axes>"
      ]
     },
     "metadata": {},
     "output_type": "display_data"
    }
   ],
   "source": [
    "sns.lineplot(data=q3_df,x='month_date',y='trial_plan_subscriptions')"
   ]
  },
  {
   "cell_type": "markdown",
   "metadata": {},
   "source": [
    "Q4: What is the customer count and percentage of customers who have churned rounded to 1 decimal place?"
   ]
  },
  {
   "cell_type": "code",
   "execution_count": 30,
   "metadata": {},
   "outputs": [
    {
     "data": {
      "text/html": [
       "<div>\n",
       "<style scoped>\n",
       "    .dataframe tbody tr th:only-of-type {\n",
       "        vertical-align: middle;\n",
       "    }\n",
       "\n",
       "    .dataframe tbody tr th {\n",
       "        vertical-align: top;\n",
       "    }\n",
       "\n",
       "    .dataframe thead th {\n",
       "        text-align: right;\n",
       "    }\n",
       "</style>\n",
       "<table border=\"1\" class=\"dataframe\">\n",
       "  <thead>\n",
       "    <tr style=\"text-align: right;\">\n",
       "      <th></th>\n",
       "      <th>churned_count</th>\n",
       "      <th>percentage</th>\n",
       "    </tr>\n",
       "  </thead>\n",
       "  <tbody>\n",
       "    <tr>\n",
       "      <th>0</th>\n",
       "      <td>307</td>\n",
       "      <td>30.7 %</td>\n",
       "    </tr>\n",
       "  </tbody>\n",
       "</table>\n",
       "</div>"
      ],
      "text/plain": [
       "   churned_count percentage\n",
       "0            307     30.7 %"
      ]
     },
     "execution_count": 30,
     "metadata": {},
     "output_type": "execute_result"
    }
   ],
   "source": [
    "query('''\n",
    "    WITH num_customers AS(\n",
    "        SELECT COUNT(DISTINCT customer_id) AS num_customers\n",
    "        FROM subscriptions \n",
    "    )\n",
    "    SELECT\n",
    "        COUNT(DISTINCT customer_id) AS churned_count,\n",
    "        ROUND(COUNT(DISTINCT customer_id) / CAST(num_customers AS FLOAT) * 100,1) || ' %' AS percentage\n",
    "        FROM subscriptions, num_customers\n",
    "        WHERE plan_id = 4\n",
    "''')"
   ]
  },
  {
   "cell_type": "markdown",
   "metadata": {},
   "source": [
    "Bonus: Visualizing the distribution of number of days taken for customers to churn:"
   ]
  },
  {
   "cell_type": "code",
   "execution_count": 16,
   "metadata": {},
   "outputs": [
    {
     "data": {
      "text/html": [
       "<div>\n",
       "<style scoped>\n",
       "    .dataframe tbody tr th:only-of-type {\n",
       "        vertical-align: middle;\n",
       "    }\n",
       "\n",
       "    .dataframe tbody tr th {\n",
       "        vertical-align: top;\n",
       "    }\n",
       "\n",
       "    .dataframe thead th {\n",
       "        text-align: right;\n",
       "    }\n",
       "</style>\n",
       "<table border=\"1\" class=\"dataframe\">\n",
       "  <thead>\n",
       "    <tr style=\"text-align: right;\">\n",
       "      <th></th>\n",
       "      <th>customer_id</th>\n",
       "      <th>length</th>\n",
       "    </tr>\n",
       "  </thead>\n",
       "  <tbody>\n",
       "    <tr>\n",
       "      <th>0</th>\n",
       "      <td>4</td>\n",
       "      <td>95.0</td>\n",
       "    </tr>\n",
       "    <tr>\n",
       "      <th>1</th>\n",
       "      <td>6</td>\n",
       "      <td>65.0</td>\n",
       "    </tr>\n",
       "    <tr>\n",
       "      <th>2</th>\n",
       "      <td>11</td>\n",
       "      <td>7.0</td>\n",
       "    </tr>\n",
       "    <tr>\n",
       "      <th>3</th>\n",
       "      <td>15</td>\n",
       "      <td>43.0</td>\n",
       "    </tr>\n",
       "    <tr>\n",
       "      <th>4</th>\n",
       "      <td>21</td>\n",
       "      <td>236.0</td>\n",
       "    </tr>\n",
       "    <tr>\n",
       "      <th>...</th>\n",
       "      <td>...</td>\n",
       "      <td>...</td>\n",
       "    </tr>\n",
       "    <tr>\n",
       "      <th>302</th>\n",
       "      <td>993</td>\n",
       "      <td>7.0</td>\n",
       "    </tr>\n",
       "    <tr>\n",
       "      <th>303</th>\n",
       "      <td>996</td>\n",
       "      <td>26.0</td>\n",
       "    </tr>\n",
       "    <tr>\n",
       "      <th>304</th>\n",
       "      <td>997</td>\n",
       "      <td>110.0</td>\n",
       "    </tr>\n",
       "    <tr>\n",
       "      <th>305</th>\n",
       "      <td>999</td>\n",
       "      <td>39.0</td>\n",
       "    </tr>\n",
       "    <tr>\n",
       "      <th>306</th>\n",
       "      <td>1000</td>\n",
       "      <td>77.0</td>\n",
       "    </tr>\n",
       "  </tbody>\n",
       "</table>\n",
       "<p>307 rows × 2 columns</p>\n",
       "</div>"
      ],
      "text/plain": [
       "     customer_id  length\n",
       "0              4    95.0\n",
       "1              6    65.0\n",
       "2             11     7.0\n",
       "3             15    43.0\n",
       "4             21   236.0\n",
       "..           ...     ...\n",
       "302          993     7.0\n",
       "303          996    26.0\n",
       "304          997   110.0\n",
       "305          999    39.0\n",
       "306         1000    77.0\n",
       "\n",
       "[307 rows x 2 columns]"
      ]
     },
     "execution_count": 16,
     "metadata": {},
     "output_type": "execute_result"
    }
   ],
   "source": [
    "q4b_df = query('''\n",
    "    WITH p0_dates AS (\n",
    "        SELECT customer_id, start_date\n",
    "        FROM subscriptions\n",
    "        WHERE plan_id = 0\n",
    "    ),\n",
    "    p4_dates AS (\n",
    "        SELECT customer_id, start_date\n",
    "        FROM subscriptions\n",
    "        WHERE plan_id = 4\n",
    "    )\n",
    "    SELECT\n",
    "        p4.customer_id,\n",
    "        julianday(p4.start_date) - julianday(p0.start_date) AS length\n",
    "    FROM\n",
    "        p4_dates p4\n",
    "        INNER JOIN p0_dates p0 ON p4.customer_id = p0.customer_id\n",
    "''')\n",
    "q4b_df"
   ]
  },
  {
   "cell_type": "code",
   "execution_count": 47,
   "metadata": {},
   "outputs": [
    {
     "data": {
      "image/png": "[encoded data removed]",
      "text/plain": [
       "<Figure size 640x480 with 2 Axes>"
      ]
     },
     "metadata": {},
     "output_type": "display_data"
    }
   ],
   "source": [
    "mean_length = q4b_df['length'].mean()\n",
    "f, (ax_box, ax_hist) = plt.subplots(2, sharex=True, gridspec_kw={\"height_ratios\": (.15, .85)})\n",
    " \n",
    "sns.boxplot(q4b_df[\"length\"], orient=\"h\", ax=ax_box)\n",
    "sns.histplot(data=q4b_df, x=\"length\", bins=int(np.sqrt(q4b_df['length'].max())), ax=ax_hist)\n",
    "plt.axvline(x = 365, color = 'black', alpha=0.5, linestyle='dashed')\n",
    "plt.text(370,60, '1 year', color='black')\n",
    "plt.axvline(x = mean_length, color='red', alpha=0.5, linestyle='dashed')\n",
    "plt.text(mean_length+10, 60, f'Mean ({mean_length:.2f})', color='red')\n",
    "\n",
    "# Remove x axis name for the boxplot\n",
    "ax_box.set(xlabel='')\n",
    "plt.show()"
   ]
  },
  {
   "cell_type": "markdown",
   "metadata": {},
   "source": [
    "If excluding customers churning right after their initial free trial:"
   ]
  },
  {
   "cell_type": "code",
   "execution_count": 55,
   "metadata": {},
   "outputs": [
    {
     "data": {
      "image/png": "[encoded data removed]",
      "text/plain": [
       "<Figure size 640x480 with 2 Axes>"
      ]
     },
     "metadata": {},
     "output_type": "display_data"
    }
   ],
   "source": [
    "q4b_df_2 = q4b_df[q4b_df['length'] > 8]\n",
    "mean_length = q4b_df_2['length'].mean()\n",
    "f, (ax_box, ax_hist) = plt.subplots(2, sharex=True, gridspec_kw={\"height_ratios\": (.15, .85)})\n",
    " \n",
    "sns.boxplot(q4b_df_2[\"length\"], orient=\"h\", ax=ax_box)\n",
    "sns.histplot(data=q4b_df_2, x=\"length\", bins=int(np.sqrt(q4b_df_2['length'].max())), ax=ax_hist)\n",
    "plt.axvline(x = 365, color = 'black', alpha=0.5, linestyle='dashed')\n",
    "plt.text(370,15, '1 year', color='black')\n",
    "plt.axvline(x = mean_length, color='red', alpha=0.5, linestyle='dashed')\n",
    "plt.text(mean_length+10, 25, f'Mean ({mean_length:.2f})', color='red')\n",
    "\n",
    "# Remove x axis name for the boxplot\n",
    "ax_box.set(xlabel='')\n",
    "plt.show()"
   ]
  },
  {
   "cell_type": "markdown",
   "metadata": {},
   "source": [
    "Q5: How many customers have churned straight after their initial free trial - what percentage is this rounded to the nearest whole number?"
   ]
  },
  {
   "cell_type": "code",
   "execution_count": 42,
   "metadata": {},
   "outputs": [
    {
     "data": {
      "text/html": [
       "<div>\n",
       "<style scoped>\n",
       "    .dataframe tbody tr th:only-of-type {\n",
       "        vertical-align: middle;\n",
       "    }\n",
       "\n",
       "    .dataframe tbody tr th {\n",
       "        vertical-align: top;\n",
       "    }\n",
       "\n",
       "    .dataframe thead th {\n",
       "        text-align: right;\n",
       "    }\n",
       "</style>\n",
       "<table border=\"1\" class=\"dataframe\">\n",
       "  <thead>\n",
       "    <tr style=\"text-align: right;\">\n",
       "      <th></th>\n",
       "      <th>churned_count</th>\n",
       "      <th>percentage</th>\n",
       "    </tr>\n",
       "  </thead>\n",
       "  <tbody>\n",
       "    <tr>\n",
       "      <th>0</th>\n",
       "      <td>93</td>\n",
       "      <td>9.0 %</td>\n",
       "    </tr>\n",
       "  </tbody>\n",
       "</table>\n",
       "</div>"
      ],
      "text/plain": [
       "   churned_count percentage\n",
       "0             93      9.0 %"
      ]
     },
     "execution_count": 42,
     "metadata": {},
     "output_type": "execute_result"
    }
   ],
   "source": [
    "query('''\n",
    "    WITH num_customers AS(\n",
    "        SELECT COUNT(DISTINCT customer_id) AS num_customers\n",
    "        FROM subscriptions \n",
    "    ),\n",
    "    p0_dates AS (\n",
    "        SELECT customer_id, start_date\n",
    "        FROM subscriptions\n",
    "        WHERE plan_id = 0\n",
    "    ),\n",
    "    p4_dates AS (\n",
    "        SELECT customer_id, start_date\n",
    "        FROM subscriptions\n",
    "        WHERE plan_id = 4\n",
    "    )   \n",
    "    SELECT\n",
    "        COUNT(DISTINCT p4.customer_id) AS churned_count,\n",
    "        ROUND(COUNT(DISTINCT p4.customer_id) / CAST(num_customers AS FLOAT) * 100,0) || ' %' AS percentage\n",
    "        FROM num_customers, p4_dates p4\n",
    "            INNER JOIN p0_dates p0 ON p4.customer_id = p0.customer_id\n",
    "        WHERE\n",
    "            julianday(p4.start_date) - julianday(p0.start_date) <= 8 --Churned straight after initial free trial\n",
    "''')"
   ]
  },
  {
   "cell_type": "markdown",
   "metadata": {},
   "source": [
    "- Note: Of the 93 customers, one (1) churned 8 days after the start of free trial, and the rest (92) churned 7 days after free trial."
   ]
  },
  {
   "cell_type": "markdown",
   "metadata": {},
   "source": [
    "Q6: What is the number and percentage of customer plans after their initial free trial?"
   ]
  },
  {
   "cell_type": "markdown",
   "metadata": {},
   "source": [
    "Q7: What is the customer count and percentage breakdown of all 5 plan_name values at 2020-12-31?"
   ]
  },
  {
   "cell_type": "markdown",
   "metadata": {},
   "source": [
    "Q8: How many customers have upgraded to an annual plan in 2020?"
   ]
  },
  {
   "cell_type": "markdown",
   "metadata": {},
   "source": [
    "Q9: How many days on average does it take for a customer to an annual plan from the day they join Foodie-Fi?"
   ]
  },
  {
   "cell_type": "markdown",
   "metadata": {},
   "source": [
    "Q10: Can you further breakdown this average value into 30 day periods (i.e. 0-30 days, 31-60 days etc)"
   ]
  },
  {
   "cell_type": "markdown",
   "metadata": {},
   "source": [
    "Q11: How many customers downgraded from a pro monthly to a basic monthly plan in 2020?"
   ]
  },
  {
   "cell_type": "markdown",
   "metadata": {},
   "source": [
    "**C. Challenge Payment Question**\n",
    "\n",
    "Q12: The Foodie-Fi team wants you to create a new payments table for the year 2020 that includes amounts paid by each customer in the subscriptions table with the following requirements:\n",
    "\n",
    "- monthly payments always occur on the same day of month as the original start_date of any monthly paid plan\n",
    "- upgrades from basic to monthly or pro plans are reduced by the current paid amount in that month and start immediately\n",
    "- upgrades from pro monthly to pro annual are paid at the end of the current billing period and also starts at the end of the month period\n",
    "- once a customer churns they will no longer make payments"
   ]
  },
  {
   "cell_type": "markdown",
   "metadata": {},
   "source": [
    "**D. Additional Questions (Open-Ended)**"
   ]
  },
  {
   "cell_type": "markdown",
   "metadata": {},
   "source": [
    "Q13: How would you calculate the rate of growth for Foodie-Fi?"
   ]
  },
  {
   "cell_type": "markdown",
   "metadata": {},
   "source": [
    "Q14: What key metrics would you recommend Foodie-Fi management to track over time to assess performance of their overall business?"
   ]
  },
  {
   "cell_type": "markdown",
   "metadata": {},
   "source": [
    "Q15: What are some key customer journeys or experiences that you would analyse further to improve customer retention?"
   ]
  },
  {
   "cell_type": "markdown",
   "metadata": {},
   "source": [
    "Q16: If the Foodie-Fi team were to create an exit survey shown to customers who wish to cancel their subscription, what questions would you include in the survey?"
   ]
  },
  {
   "cell_type": "markdown",
   "metadata": {},
   "source": [
    "Q17: What business levers could the Foodie-Fi team use to reduce the customer churn rate? How would you validate the effectiveness of your ideas?\n",
    "Conclusion"
   ]
  }
 ],
 "metadata": {
  "kernelspec": {
   "display_name": "Python 3",
   "language": "python",
   "name": "python3"
  },
  "language_info": {
   "codemirror_mode": {
    "name": "ipython",
    "version": 3
   },
   "file_extension": ".py",
   "mimetype": "text/x-python",
   "name": "python",
   "nbconvert_exporter": "python",
   "pygments_lexer": "ipython3",
   "version": "3.12.3"
  }
 },
 "nbformat": 4,
 "nbformat_minor": 2
}
